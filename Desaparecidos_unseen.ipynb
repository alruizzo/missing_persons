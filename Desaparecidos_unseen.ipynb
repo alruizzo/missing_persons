{
  "nbformat": 4,
  "nbformat_minor": 0,
  "metadata": {
    "colab": {
      "name": "Desaparecidos_unseen.ipynb",
      "provenance": [],
      "collapsed_sections": [],
      "toc_visible": true,
      "include_colab_link": true
    },
    "kernelspec": {
      "name": "python3",
      "display_name": "Python 3"
    }
  },
  "cells": [
    {
      "cell_type": "markdown",
      "metadata": {
        "id": "view-in-github",
        "colab_type": "text"
      },
      "source": [
        "<a href=\"https://colab.research.google.com/github/alruizzo/missing_persons/blob/main/Desaparecidos_unseen.ipynb\" target=\"_parent\"><img src=\"https://colab.research.google.com/assets/colab-badge.svg\" alt=\"Open In Colab\"/></a>"
      ]
    },
    {
      "cell_type": "markdown",
      "metadata": {
        "id": "46CyE9mzsfBL"
      },
      "source": [
        "# **Proyecto de Aplicación Especialización en Estadística Aplicada**\n",
        "---\n",
        "\n"
      ]
    },
    {
      "cell_type": "markdown",
      "metadata": {
        "id": "g9YJynalneYf"
      },
      "source": [
        "## **Factores de predicción de la aparición de personas mayores reportadas como desaparecidas**\n",
        "---\n",
        "\n",
        "![](https://www.infobae.com/new-resizer/b8r9oLLmBqIgVSsie5UGwM1nvm4=/1200x900/filters:format(jpg):quality(85)//arc-anglerfish-arc2-prod-infobae.s3.amazonaws.com/public/UFQOZRZCURB4BOIRTLM3IT2HCM.jpg)\n",
        "\n",
        "**Por: Adriana Lucía Ruiz Rizzo**"
      ]
    },
    {
      "cell_type": "markdown",
      "metadata": {
        "id": "IptGnPDks71G"
      },
      "source": [
        "### **1 Importar los paquetes requeridos**\n",
        "---"
      ]
    },
    {
      "cell_type": "code",
      "metadata": {
        "id": "4bJgZhBMr0AL"
      },
      "source": [
        "# Manejo de datos\n",
        "import pandas as pd             \n",
        "import numpy as np\n",
        "\n",
        "# Manejo de gráficos\n",
        "import matplotlib.pyplot as plt\n",
        "import seaborn as sns\n",
        "\n",
        "# Preprocesamiento\n",
        "from collections import Counter\n",
        "from datetime import datetime\n",
        "\n",
        "# Manejo de modelos\n",
        "from scipy import stats\n",
        "import pickle"
      ],
      "execution_count": null,
      "outputs": []
    },
    {
      "cell_type": "markdown",
      "metadata": {
        "id": "BEaLRTD-ugHK"
      },
      "source": [
        "### **2 Cargar datos (unseen)**\n",
        "---\n"
      ]
    },
    {
      "cell_type": "code",
      "metadata": {
        "id": "3l1ByFOfuxTM",
        "colab": {
          "base_uri": "https://localhost:8080/",
          "height": 947
        },
        "outputId": "4fd9004c-ee20-4e15-a327-76a0baded576"
      },
      "source": [
        "datos = pd.read_csv(\"https://drive.google.com/uc?id=1SI8CV0NT54-RrYTsknPo9RAfe4IZ4hK7\")\n",
        "datos"
      ],
      "execution_count": null,
      "outputs": [
        {
          "output_type": "execute_result",
          "data": {
            "text/html": [
              "<div>\n",
              "<style scoped>\n",
              "    .dataframe tbody tr th:only-of-type {\n",
              "        vertical-align: middle;\n",
              "    }\n",
              "\n",
              "    .dataframe tbody tr th {\n",
              "        vertical-align: top;\n",
              "    }\n",
              "\n",
              "    .dataframe thead th {\n",
              "        text-align: right;\n",
              "    }\n",
              "</style>\n",
              "<table border=\"1\" class=\"dataframe\">\n",
              "  <thead>\n",
              "    <tr style=\"text-align: right;\">\n",
              "      <th></th>\n",
              "      <th>ID</th>\n",
              "      <th>Estado de la desaparición</th>\n",
              "      <th>Clasificación de la desaparición</th>\n",
              "      <th>Fecha de la desaparición</th>\n",
              "      <th>Edad al momento de la desaparición</th>\n",
              "      <th>Sexo del desaparecido</th>\n",
              "      <th>País de nacimiento del desaparecido</th>\n",
              "      <th>Ancestro racial del desaparecido</th>\n",
              "      <th>Estado civil del desaparecido</th>\n",
              "      <th>Escolaridad del desaparecido</th>\n",
              "      <th>Factor de vulnerabilidad del desaparecido</th>\n",
              "      <th>País donde ocurre la desaparición</th>\n",
              "      <th>Municipio donde ocurre la desaparición DANE</th>\n",
              "      <th>Departamento donde ocurre la desaparición DANE</th>\n",
              "      <th>Contexto</th>\n",
              "    </tr>\n",
              "  </thead>\n",
              "  <tbody>\n",
              "    <tr>\n",
              "      <th>0</th>\n",
              "      <td>1</td>\n",
              "      <td>Desaparecido</td>\n",
              "      <td>Sin Información</td>\n",
              "      <td>2006-12-29T00:00:00.000</td>\n",
              "      <td>21.0</td>\n",
              "      <td>Hombre</td>\n",
              "      <td>Sin información</td>\n",
              "      <td>Mestizo</td>\n",
              "      <td>Soltero (a)</td>\n",
              "      <td>Educación básica secundaria o secundaria baja</td>\n",
              "      <td>Persona adicta a una droga natural o sintética</td>\n",
              "      <td>Sin información</td>\n",
              "      <td>Sin Información</td>\n",
              "      <td>Sin información</td>\n",
              "      <td>Desaparición</td>\n",
              "    </tr>\n",
              "    <tr>\n",
              "      <th>1</th>\n",
              "      <td>2</td>\n",
              "      <td>Desaparecido</td>\n",
              "      <td>Sin Información</td>\n",
              "      <td>2006-12-26T00:00:00.000</td>\n",
              "      <td>24.0</td>\n",
              "      <td>Hombre</td>\n",
              "      <td>Colombia</td>\n",
              "      <td>Mestizo</td>\n",
              "      <td>Soltero (a)</td>\n",
              "      <td>Educación básica secundaria o secundaria baja</td>\n",
              "      <td>Persona adicta a una droga natural o sintética</td>\n",
              "      <td>Colombia</td>\n",
              "      <td>Bogotá D.C.</td>\n",
              "      <td>Bogotá D.C</td>\n",
              "      <td>Desaparición</td>\n",
              "    </tr>\n",
              "    <tr>\n",
              "      <th>2</th>\n",
              "      <td>3</td>\n",
              "      <td>Desaparecido</td>\n",
              "      <td>Sin Información</td>\n",
              "      <td>2006-12-29T00:00:00.000</td>\n",
              "      <td>13.0</td>\n",
              "      <td>Mujer</td>\n",
              "      <td>Colombia</td>\n",
              "      <td>Mestizo</td>\n",
              "      <td>Soltero (a)</td>\n",
              "      <td>Educación básica secundaria o secundaria baja</td>\n",
              "      <td>Ninguno</td>\n",
              "      <td>Colombia</td>\n",
              "      <td>Bogotá D.C.</td>\n",
              "      <td>Bogotá D.C</td>\n",
              "      <td>Desaparición</td>\n",
              "    </tr>\n",
              "    <tr>\n",
              "      <th>3</th>\n",
              "      <td>4</td>\n",
              "      <td>Aparecio Muerto</td>\n",
              "      <td>Sin Información</td>\n",
              "      <td>2006-12-31T00:00:00.000</td>\n",
              "      <td>50.0</td>\n",
              "      <td>Hombre</td>\n",
              "      <td>Colombia</td>\n",
              "      <td>Blanco</td>\n",
              "      <td>Soltero (a)</td>\n",
              "      <td>Educación básica primaria</td>\n",
              "      <td>Persona adicta a una droga natural o sintética</td>\n",
              "      <td>Sin información</td>\n",
              "      <td>Sin Información</td>\n",
              "      <td>Sin información</td>\n",
              "      <td>Desaparición</td>\n",
              "    </tr>\n",
              "    <tr>\n",
              "      <th>4</th>\n",
              "      <td>5</td>\n",
              "      <td>Aparecio Vivo</td>\n",
              "      <td>Sin Información</td>\n",
              "      <td>2006-12-29T00:00:00.000</td>\n",
              "      <td>17.0</td>\n",
              "      <td>Mujer</td>\n",
              "      <td>Sin información</td>\n",
              "      <td>Mestizo</td>\n",
              "      <td>Soltero (a)</td>\n",
              "      <td>Educación técnica profesional y tecnológica</td>\n",
              "      <td>Ninguno</td>\n",
              "      <td>Colombia</td>\n",
              "      <td>Bogotá D.C.</td>\n",
              "      <td>Bogotá D.C</td>\n",
              "      <td>Desaparición</td>\n",
              "    </tr>\n",
              "    <tr>\n",
              "      <th>...</th>\n",
              "      <td>...</td>\n",
              "      <td>...</td>\n",
              "      <td>...</td>\n",
              "      <td>...</td>\n",
              "      <td>...</td>\n",
              "      <td>...</td>\n",
              "      <td>...</td>\n",
              "      <td>...</td>\n",
              "      <td>...</td>\n",
              "      <td>...</td>\n",
              "      <td>...</td>\n",
              "      <td>...</td>\n",
              "      <td>...</td>\n",
              "      <td>...</td>\n",
              "      <td>...</td>\n",
              "    </tr>\n",
              "    <tr>\n",
              "      <th>164762</th>\n",
              "      <td>164763</td>\n",
              "      <td>Desaparecido</td>\n",
              "      <td>Desaparición Presuntamente Forzada</td>\n",
              "      <td>2004-06-01T00:00:00.000</td>\n",
              "      <td>20.0</td>\n",
              "      <td>Hombre</td>\n",
              "      <td>Colombia</td>\n",
              "      <td>Sin Información</td>\n",
              "      <td>Soltero (a)</td>\n",
              "      <td>Educación inicial y educación preescolar</td>\n",
              "      <td>Ninguno</td>\n",
              "      <td>Colombia</td>\n",
              "      <td>Medellín</td>\n",
              "      <td>Antioquia</td>\n",
              "      <td>Desaparición</td>\n",
              "    </tr>\n",
              "    <tr>\n",
              "      <th>164763</th>\n",
              "      <td>164764</td>\n",
              "      <td>Desaparecido</td>\n",
              "      <td>Sin Información</td>\n",
              "      <td>2021-09-18T00:00:00.000</td>\n",
              "      <td>14.0</td>\n",
              "      <td>Mujer</td>\n",
              "      <td>Colombia</td>\n",
              "      <td>Mestizo</td>\n",
              "      <td>Soltero (a)</td>\n",
              "      <td>Educación básica primaria</td>\n",
              "      <td>Ninguno</td>\n",
              "      <td>Colombia</td>\n",
              "      <td>Bogotá D.C.</td>\n",
              "      <td>Bogotá D.C</td>\n",
              "      <td>Desaparición</td>\n",
              "    </tr>\n",
              "    <tr>\n",
              "      <th>164764</th>\n",
              "      <td>164765</td>\n",
              "      <td>Desaparecido</td>\n",
              "      <td>Desaparición Presuntamente Forzada</td>\n",
              "      <td>1985-04-16T00:00:00.000</td>\n",
              "      <td>17.0</td>\n",
              "      <td>Hombre</td>\n",
              "      <td>Colombia</td>\n",
              "      <td>Blanco</td>\n",
              "      <td>Soltero (a)</td>\n",
              "      <td>Educación inicial y educación preescolar</td>\n",
              "      <td>Sin información</td>\n",
              "      <td>Colombia</td>\n",
              "      <td>Riohacha</td>\n",
              "      <td>La Guajira</td>\n",
              "      <td>Desaparición</td>\n",
              "    </tr>\n",
              "    <tr>\n",
              "      <th>164765</th>\n",
              "      <td>164766</td>\n",
              "      <td>Desaparecido</td>\n",
              "      <td>Sin Información</td>\n",
              "      <td>2021-09-22T00:00:00.000</td>\n",
              "      <td>35.0</td>\n",
              "      <td>Hombre</td>\n",
              "      <td>Colombia</td>\n",
              "      <td>Mestizo</td>\n",
              "      <td>Unión libre</td>\n",
              "      <td>Educación básica primaria</td>\n",
              "      <td>Ninguno</td>\n",
              "      <td>Colombia</td>\n",
              "      <td>Dos Quebradas</td>\n",
              "      <td>Risaralda</td>\n",
              "      <td>Desaparición</td>\n",
              "    </tr>\n",
              "    <tr>\n",
              "      <th>164766</th>\n",
              "      <td>164767</td>\n",
              "      <td>Desaparecido</td>\n",
              "      <td>Sin Información</td>\n",
              "      <td>2021-09-18T00:00:00.000</td>\n",
              "      <td>16.0</td>\n",
              "      <td>Mujer</td>\n",
              "      <td>Colombia</td>\n",
              "      <td>Indigena</td>\n",
              "      <td>Soltero (a)</td>\n",
              "      <td>Educación básica secundaria o secundaria baja</td>\n",
              "      <td>Ninguno</td>\n",
              "      <td>Colombia</td>\n",
              "      <td>Villavicencio</td>\n",
              "      <td>Meta</td>\n",
              "      <td>Desaparición</td>\n",
              "    </tr>\n",
              "  </tbody>\n",
              "</table>\n",
              "<p>164767 rows × 15 columns</p>\n",
              "</div>"
            ],
            "text/plain": [
              "            ID  ...      Contexto\n",
              "0            1  ...  Desaparición\n",
              "1            2  ...  Desaparición\n",
              "2            3  ...  Desaparición\n",
              "3            4  ...  Desaparición\n",
              "4            5  ...  Desaparición\n",
              "...        ...  ...           ...\n",
              "164762  164763  ...  Desaparición\n",
              "164763  164764  ...  Desaparición\n",
              "164764  164765  ...  Desaparición\n",
              "164765  164766  ...  Desaparición\n",
              "164766  164767  ...  Desaparición\n",
              "\n",
              "[164767 rows x 15 columns]"
            ]
          },
          "metadata": {},
          "execution_count": 2
        }
      ]
    },
    {
      "cell_type": "markdown",
      "metadata": {
        "id": "JA4h8ZPvz9rX"
      },
      "source": [
        "### **3 Revisar los datos**\n",
        "---"
      ]
    },
    {
      "cell_type": "code",
      "metadata": {
        "id": "laE_gtg-0Fp3",
        "colab": {
          "base_uri": "https://localhost:8080/"
        },
        "outputId": "924246d8-6266-461f-d399-6e04f05456a7"
      },
      "source": [
        "# Tipo de datos\n",
        "datos.info()"
      ],
      "execution_count": null,
      "outputs": [
        {
          "output_type": "stream",
          "name": "stdout",
          "text": [
            "<class 'pandas.core.frame.DataFrame'>\n",
            "RangeIndex: 164767 entries, 0 to 164766\n",
            "Data columns (total 15 columns):\n",
            " #   Column                                          Non-Null Count   Dtype  \n",
            "---  ------                                          --------------   -----  \n",
            " 0   ID                                              164767 non-null  int64  \n",
            " 1   Estado de la desaparición                       164767 non-null  object \n",
            " 2   Clasificación de la desaparición                164767 non-null  object \n",
            " 3   Fecha de la desaparición                        164767 non-null  object \n",
            " 4   Edad al momento de la desaparición              164767 non-null  float64\n",
            " 5   Sexo del desaparecido                           164767 non-null  object \n",
            " 6   País de nacimiento del desaparecido             164767 non-null  object \n",
            " 7   Ancestro racial del desaparecido                164767 non-null  object \n",
            " 8   Estado civil del desaparecido                   164767 non-null  object \n",
            " 9   Escolaridad del desaparecido                    164767 non-null  object \n",
            " 10  Factor de vulnerabilidad del desaparecido       164767 non-null  object \n",
            " 11  País donde ocurre la desaparición               164767 non-null  object \n",
            " 12  Municipio donde ocurre la desaparición DANE     164767 non-null  object \n",
            " 13  Departamento donde ocurre la desaparición DANE  164767 non-null  object \n",
            " 14  Contexto                                        164767 non-null  object \n",
            "dtypes: float64(1), int64(1), object(13)\n",
            "memory usage: 18.9+ MB\n"
          ]
        }
      ]
    },
    {
      "cell_type": "code",
      "metadata": {
        "id": "CNhOge-EDs0g",
        "colab": {
          "base_uri": "https://localhost:8080/"
        },
        "outputId": "b5a97244-458d-4a46-baa3-b25989ac4040"
      },
      "source": [
        "# Listar variables para ajustar sus nombres\n",
        "datos.columns"
      ],
      "execution_count": null,
      "outputs": [
        {
          "output_type": "execute_result",
          "data": {
            "text/plain": [
              "Index(['ID', 'Estado de la desaparición', 'Clasificación de la desaparición',\n",
              "       'Fecha de la desaparición', 'Edad al momento de la desaparición',\n",
              "       'Sexo del desaparecido', 'País de nacimiento del desaparecido',\n",
              "       'Ancestro racial del desaparecido', 'Estado civil del desaparecido',\n",
              "       'Escolaridad del desaparecido',\n",
              "       'Factor de vulnerabilidad del desaparecido',\n",
              "       'País donde ocurre la desaparición',\n",
              "       'Municipio donde ocurre la desaparición DANE',\n",
              "       'Departamento donde ocurre la desaparición DANE', 'Contexto'],\n",
              "      dtype='object')"
            ]
          },
          "metadata": {},
          "execution_count": 4
        }
      ]
    },
    {
      "cell_type": "code",
      "metadata": {
        "id": "4v5vPiDSEMu5",
        "colab": {
          "base_uri": "https://localhost:8080/"
        },
        "outputId": "8b0713e1-0a53-4b70-94ae-0e40785c4f4d"
      },
      "source": [
        "# Simplificar (y cambiar) los nombres de las variables\n",
        "datos.columns = ['ID', 'status', 'clasificacion',\n",
        "       'fecha', 'edad', 'sexo', 'pais_nac', 'ancestro', 'estado_civil',\n",
        "       'escolaridad', 'vulnerabilidad', 'pais_desap',\n",
        "       'munic_desap_DANE', 'dept_desap_DANE', 'contexto']\n",
        "datos.columns"
      ],
      "execution_count": null,
      "outputs": [
        {
          "output_type": "execute_result",
          "data": {
            "text/plain": [
              "Index(['ID', 'status', 'clasificacion', 'fecha', 'edad', 'sexo', 'pais_nac',\n",
              "       'ancestro', 'estado_civil', 'escolaridad', 'vulnerabilidad',\n",
              "       'pais_desap', 'munic_desap_DANE', 'dept_desap_DANE', 'contexto'],\n",
              "      dtype='object')"
            ]
          },
          "metadata": {},
          "execution_count": 5
        }
      ]
    },
    {
      "cell_type": "markdown",
      "metadata": {
        "id": "UCFB6_fj05gl"
      },
      "source": [
        "### **4 Eliminar registros sin información de las variables más relevantes**\n",
        "---"
      ]
    },
    {
      "cell_type": "markdown",
      "metadata": {
        "id": "3fS5TOnuLxli"
      },
      "source": [
        "#### **a. Edad**"
      ]
    },
    {
      "cell_type": "code",
      "metadata": {
        "id": "evkH123FKG31",
        "colab": {
          "base_uri": "https://localhost:8080/"
        },
        "outputId": "4e09b96c-a392-4eb4-f66c-5bf9a273ab9f"
      },
      "source": [
        "# Revisar valores únicos de edad para hacerse a una idea de los ajustes necesarios\n",
        "datos.edad.unique()"
      ],
      "execution_count": null,
      "outputs": [
        {
          "output_type": "execute_result",
          "data": {
            "text/plain": [
              "array([2.100e+01, 2.400e+01, 1.300e+01, 5.000e+01, 1.700e+01, 4.100e+01,\n",
              "       7.100e+01, 2.500e+01, 2.000e+01, 1.500e+01, 5.400e+01, 4.000e+01,\n",
              "       2.900e+01, 2.800e+01, 1.400e+01, 5.500e+01, 1.900e+01, 2.700e+01,\n",
              "       3.900e+01, 4.700e+01, 4.500e+01, 3.600e+01, 8.700e+01, 4.400e+01,\n",
              "       4.300e+01, 5.600e+01, 1.100e+01, 3.100e+01, 2.200e+01, 6.300e+01,\n",
              "       4.800e+01, 1.800e+01, 1.600e+01, 3.800e+01, 5.800e+01, 3.500e+01,\n",
              "       7.000e+01, 2.300e+01, 3.300e+01, 3.000e+01, 6.200e+01, 4.200e+01,\n",
              "       0.000e+00, 5.200e+01, 1.200e+01, 7.200e+01, 7.400e+01, 7.000e+00,\n",
              "       2.600e+01, 9.000e+00, 3.200e+01, 4.600e+01, 3.400e+01, 5.100e+01,\n",
              "       8.000e+00, 5.300e+01, 7.900e+01, 7.600e+01, 4.900e+01, 5.000e+00,\n",
              "       5.700e+01, 1.000e+01, 6.500e+01, 7.800e+01, 6.900e+01, 8.400e+01,\n",
              "       8.300e+01, 6.000e+00, 6.400e+01, 7.300e+01, 8.200e+01, 5.900e+01,\n",
              "       6.800e+01, 6.700e+01, 3.700e+01, 7.500e+01, 7.700e+01, 6.000e+01,\n",
              "       8.000e+01, 8.800e+01, 1.083e+00, 8.600e+01, 6.600e+01, 2.000e+00,\n",
              "       8.500e+01, 8.300e-02, 9.400e+01, 4.000e+00, 1.250e+00, 5.830e-01,\n",
              "       3.330e-01, 8.100e+01, 8.900e+01, 3.000e+00, 6.660e-01, 6.100e+01,\n",
              "       1.660e-01, 2.500e-01, 1.500e+00, 9.160e-01, 4.160e-01, 1.000e+00,\n",
              "       9.100e+01, 5.000e-01, 9.000e+01, 9.500e+01, 9.900e+01, 1.010e+02,\n",
              "       1.030e+02, 1.666e+00, 9.600e+01, 9.300e+01, 9.800e+01, 9.200e+01,\n",
              "       9.700e+01, 8.330e-01, 7.500e-01, 1.583e+00, 1.040e+02, 1.333e+00,\n",
              "       1.833e+00, 1.000e+02, 1.416e+00, 1.750e+00, 1.916e+00, 1.166e+00,\n",
              "       1.100e+02, 2.750e+00, 1.120e+02, 1.020e+02, 2.083e+00, 1.070e+02,\n",
              "       2.916e+00, 1.080e+02, 3.333e+00, 4.333e+00])"
            ]
          },
          "metadata": {},
          "execution_count": 6
        }
      ]
    },
    {
      "cell_type": "code",
      "metadata": {
        "id": "-1Sep4hyLB_w",
        "colab": {
          "base_uri": "https://localhost:8080/"
        },
        "outputId": "cdc5148c-5d3e-4906-ceb1-e8cbc42da0f8"
      },
      "source": [
        "# Seleccionar registros con valores de edad (determinar cuántos son faltantes)\n",
        "InfoEdad = datos[\"edad\"] != 'Sin información'\n",
        "len(datos[InfoEdad])                          # n = 202 no tienen info de edad"
      ],
      "execution_count": null,
      "outputs": [
        {
          "output_type": "execute_result",
          "data": {
            "text/plain": [
              "164767"
            ]
          },
          "metadata": {},
          "execution_count": 7
        }
      ]
    },
    {
      "cell_type": "markdown",
      "metadata": {
        "id": "qyyAQNxc6ldK"
      },
      "source": [
        "#### **b. Fecha de desaparición**"
      ]
    },
    {
      "cell_type": "code",
      "metadata": {
        "id": "Kwpu15UkNH-8",
        "colab": {
          "base_uri": "https://localhost:8080/"
        },
        "outputId": "aacb600e-607b-4412-c531-8bee9b665cf4"
      },
      "source": [
        "# Revisar valores únicos de fecha para hacerse una idea de cómo deberían ajustarse\n",
        "datos.fecha.unique()"
      ],
      "execution_count": null,
      "outputs": [
        {
          "output_type": "execute_result",
          "data": {
            "text/plain": [
              "array(['2006-12-29T00:00:00.000', '2006-12-26T00:00:00.000',\n",
              "       '2006-12-31T00:00:00.000', ..., '1984-02-19T00:00:00.000',\n",
              "       '2021-09-28T00:00:00.000', '2021-09-29T00:00:00.000'], dtype=object)"
            ]
          },
          "metadata": {},
          "execution_count": 8
        }
      ]
    },
    {
      "cell_type": "code",
      "metadata": {
        "id": "GyMDoH1_TEZy",
        "colab": {
          "base_uri": "https://localhost:8080/"
        },
        "outputId": "1155e08d-fe1e-4eea-beb1-e34b72b553f1"
      },
      "source": [
        "# Seleccionar registros con valores de fecha (determinar cuántos son faltantes)\n",
        "InfoFecha = datos[\"fecha\"] != 'Sin información'\n",
        "len(datos[InfoFecha])                         # n = 129 no tienen info de año"
      ],
      "execution_count": null,
      "outputs": [
        {
          "output_type": "execute_result",
          "data": {
            "text/plain": [
              "164767"
            ]
          },
          "metadata": {},
          "execution_count": 9
        }
      ]
    },
    {
      "cell_type": "markdown",
      "metadata": {
        "id": "ar3j1JHPC3wd"
      },
      "source": [
        "#### **c. Clasificación de la desaparición**"
      ]
    },
    {
      "cell_type": "code",
      "metadata": {
        "id": "QqVWKN6cCytL",
        "colab": {
          "base_uri": "https://localhost:8080/"
        },
        "outputId": "420d8084-669b-4161-f715-54be846c6e5e"
      },
      "source": [
        "# Seleccionar registros que no corresponden a desaparición presuntamente forzada\n",
        "InfoClasif = datos.clasificacion != 'Desaparición Presuntamente Forzada' \n",
        "len(datos[InfoClasif])                       # n = 32403 tienen clasificación\n",
        "                                             # presuntamente forzada"
      ],
      "execution_count": null,
      "outputs": [
        {
          "output_type": "execute_result",
          "data": {
            "text/plain": [
              "131981"
            ]
          },
          "metadata": {},
          "execution_count": 10
        }
      ]
    },
    {
      "cell_type": "code",
      "metadata": {
        "id": "uVNBiUbHOBqA",
        "colab": {
          "base_uri": "https://localhost:8080/"
        },
        "outputId": "e507d3f4-abe4-4e90-a171-a877048dbb55"
      },
      "source": [
        "# Revisar valores únicos de clasificación de la desaparición\n",
        "datos.clasificacion.unique()"
      ],
      "execution_count": null,
      "outputs": [
        {
          "output_type": "execute_result",
          "data": {
            "text/plain": [
              "array(['Sin Información', 'Desaparición Presuntamente Forzada'],\n",
              "      dtype=object)"
            ]
          },
          "metadata": {},
          "execution_count": 11
        }
      ]
    },
    {
      "cell_type": "markdown",
      "metadata": {
        "id": "hbWlvowlwjq7"
      },
      "source": [
        "#### **Filtro**"
      ]
    },
    {
      "cell_type": "markdown",
      "metadata": {
        "id": "oQ7RBzW9wse4"
      },
      "source": [
        "- Se eliminan los datos sin información en las variables más importantes (edad y fecha de desaparición) y aquellos con presunta clasificación de desaparición como forzada."
      ]
    },
    {
      "cell_type": "code",
      "metadata": {
        "id": "2-RzsMr8Laxf",
        "colab": {
          "base_uri": "https://localhost:8080/"
        },
        "outputId": "dad1731a-4a07-4223-e550-a5874993c510"
      },
      "source": [
        "# Hasta aquí podemos filtrar aquellos registros seleccionados anteriormente\n",
        "datos = datos[InfoEdad & InfoFecha & InfoClasif]\n",
        "len(datos)                                      # n = 129776"
      ],
      "execution_count": null,
      "outputs": [
        {
          "output_type": "execute_result",
          "data": {
            "text/plain": [
              "131981"
            ]
          },
          "metadata": {},
          "execution_count": 12
        }
      ]
    },
    {
      "cell_type": "markdown",
      "metadata": {
        "id": "yl07aMhcxLiX"
      },
      "source": [
        "- Se eliminan las variables redundantes o que no se necesitan en el modelo"
      ]
    },
    {
      "cell_type": "code",
      "metadata": {
        "id": "YDuXfYSYPAk_"
      },
      "source": [
        "# Eliminar variables que no se necesitan o son redundantes con otras variables\n",
        "datos = datos.drop(['contexto',         # redundante con clasificacion\n",
        "            'clasificacion',    # sólo tiene una clase\n",
        "            'pais_nac',         # no se considera relevante\n",
        "            'ancestro'],        # no se considera relevante\n",
        "           1)"
      ],
      "execution_count": null,
      "outputs": []
    },
    {
      "cell_type": "code",
      "metadata": {
        "id": "5wzY5MqR4IUS",
        "colab": {
          "base_uri": "https://localhost:8080/"
        },
        "outputId": "0d45ce88-65c0-4795-f4d5-caef8d46daef"
      },
      "source": [
        "# Primero, se ajusta el tipo de las variable\n",
        "datos['edad'] = datos.edad.astype('float').astype('int')\n",
        "filtro_edad = datos['edad'] >= 60\n",
        "filtro_status = datos[\"status\"] != 'Aparecio Muerto'\n",
        "datos = datos[filtro_edad & filtro_status]\n",
        "len(datos)"
      ],
      "execution_count": null,
      "outputs": [
        {
          "output_type": "execute_result",
          "data": {
            "text/plain": [
              "7841"
            ]
          },
          "metadata": {},
          "execution_count": 14
        }
      ]
    },
    {
      "cell_type": "code",
      "metadata": {
        "id": "jll0ltXeDowr",
        "colab": {
          "base_uri": "https://localhost:8080/",
          "height": 774
        },
        "outputId": "8a2dff00-8b4e-4fed-ce42-cd9e4054c3a6"
      },
      "source": [
        "# Dejamos sólo las desapariciones ocurridas en Colombia, ya que es menos\n",
        "# probable que conozcamos con certeza el desenlace de la desaparición\n",
        "# cuando ésta ocurrió en otro país y eliminamos después esa columna\n",
        "desap_col = datos[\"pais_desap\"] == 'Colombia'\n",
        "datos = datos[desap_col]\n",
        "datos = datos.drop(\"pais_desap\", 1)\n",
        "len(datos)\n",
        "datos"
      ],
      "execution_count": null,
      "outputs": [
        {
          "output_type": "execute_result",
          "data": {
            "text/html": [
              "<div>\n",
              "<style scoped>\n",
              "    .dataframe tbody tr th:only-of-type {\n",
              "        vertical-align: middle;\n",
              "    }\n",
              "\n",
              "    .dataframe tbody tr th {\n",
              "        vertical-align: top;\n",
              "    }\n",
              "\n",
              "    .dataframe thead th {\n",
              "        text-align: right;\n",
              "    }\n",
              "</style>\n",
              "<table border=\"1\" class=\"dataframe\">\n",
              "  <thead>\n",
              "    <tr style=\"text-align: right;\">\n",
              "      <th></th>\n",
              "      <th>ID</th>\n",
              "      <th>status</th>\n",
              "      <th>fecha</th>\n",
              "      <th>edad</th>\n",
              "      <th>sexo</th>\n",
              "      <th>estado_civil</th>\n",
              "      <th>escolaridad</th>\n",
              "      <th>vulnerabilidad</th>\n",
              "      <th>munic_desap_DANE</th>\n",
              "      <th>dept_desap_DANE</th>\n",
              "    </tr>\n",
              "  </thead>\n",
              "  <tbody>\n",
              "    <tr>\n",
              "      <th>33</th>\n",
              "      <td>34</td>\n",
              "      <td>Desaparecido</td>\n",
              "      <td>2006-12-12T00:00:00.000</td>\n",
              "      <td>87</td>\n",
              "      <td>Hombre</td>\n",
              "      <td>Soltero (a)</td>\n",
              "      <td>Educación básica primaria</td>\n",
              "      <td>Otro</td>\n",
              "      <td>Bogotá D.C.</td>\n",
              "      <td>Bogotá D.C</td>\n",
              "    </tr>\n",
              "    <tr>\n",
              "      <th>45</th>\n",
              "      <td>46</td>\n",
              "      <td>Desaparecido</td>\n",
              "      <td>2006-12-25T00:00:00.000</td>\n",
              "      <td>63</td>\n",
              "      <td>Mujer</td>\n",
              "      <td>Soltero (a)</td>\n",
              "      <td>Educación básica primaria</td>\n",
              "      <td>Ninguno</td>\n",
              "      <td>Bogotá D.C.</td>\n",
              "      <td>Bogotá D.C</td>\n",
              "    </tr>\n",
              "    <tr>\n",
              "      <th>67</th>\n",
              "      <td>68</td>\n",
              "      <td>Desaparecido</td>\n",
              "      <td>2006-12-02T00:00:00.000</td>\n",
              "      <td>70</td>\n",
              "      <td>Hombre</td>\n",
              "      <td>Casado (a)</td>\n",
              "      <td>Educación básica primaria</td>\n",
              "      <td>Ninguno</td>\n",
              "      <td>Bogotá D.C.</td>\n",
              "      <td>Bogotá D.C</td>\n",
              "    </tr>\n",
              "    <tr>\n",
              "      <th>86</th>\n",
              "      <td>87</td>\n",
              "      <td>Aparecio Vivo</td>\n",
              "      <td>2007-01-04T00:00:00.000</td>\n",
              "      <td>62</td>\n",
              "      <td>Hombre</td>\n",
              "      <td>Soltero (a)</td>\n",
              "      <td>Educación básica primaria</td>\n",
              "      <td>Ninguno</td>\n",
              "      <td>Soledad</td>\n",
              "      <td>Atlántico</td>\n",
              "    </tr>\n",
              "    <tr>\n",
              "      <th>107</th>\n",
              "      <td>108</td>\n",
              "      <td>Desaparecido</td>\n",
              "      <td>2007-01-01T00:00:00.000</td>\n",
              "      <td>74</td>\n",
              "      <td>Hombre</td>\n",
              "      <td>Soltero (a)</td>\n",
              "      <td>Educación básica primaria</td>\n",
              "      <td>Ninguno</td>\n",
              "      <td>Santiago de Cali</td>\n",
              "      <td>Valle Del Cauca</td>\n",
              "    </tr>\n",
              "    <tr>\n",
              "      <th>...</th>\n",
              "      <td>...</td>\n",
              "      <td>...</td>\n",
              "      <td>...</td>\n",
              "      <td>...</td>\n",
              "      <td>...</td>\n",
              "      <td>...</td>\n",
              "      <td>...</td>\n",
              "      <td>...</td>\n",
              "      <td>...</td>\n",
              "      <td>...</td>\n",
              "    </tr>\n",
              "    <tr>\n",
              "      <th>164623</th>\n",
              "      <td>164624</td>\n",
              "      <td>Desaparecido</td>\n",
              "      <td>2021-09-21T00:00:00.000</td>\n",
              "      <td>67</td>\n",
              "      <td>Mujer</td>\n",
              "      <td>Casado (a)</td>\n",
              "      <td>Educación media o secundaria alta</td>\n",
              "      <td>Ninguno</td>\n",
              "      <td>Venecia</td>\n",
              "      <td>Antioquia</td>\n",
              "    </tr>\n",
              "    <tr>\n",
              "      <th>164658</th>\n",
              "      <td>164659</td>\n",
              "      <td>Desaparecido</td>\n",
              "      <td>1989-01-01T00:00:00.000</td>\n",
              "      <td>61</td>\n",
              "      <td>Hombre</td>\n",
              "      <td>Casado (a)</td>\n",
              "      <td>Educación básica primaria</td>\n",
              "      <td>Ninguno</td>\n",
              "      <td>Buenaventura</td>\n",
              "      <td>Valle Del Cauca</td>\n",
              "    </tr>\n",
              "    <tr>\n",
              "      <th>164702</th>\n",
              "      <td>164703</td>\n",
              "      <td>Desaparecido</td>\n",
              "      <td>2021-09-26T00:00:00.000</td>\n",
              "      <td>64</td>\n",
              "      <td>Mujer</td>\n",
              "      <td>Separado (a), Divorciado (a)</td>\n",
              "      <td>Sin escolaridad</td>\n",
              "      <td>Ninguno</td>\n",
              "      <td>Bogotá D.C.</td>\n",
              "      <td>Bogotá D.C</td>\n",
              "    </tr>\n",
              "    <tr>\n",
              "      <th>164729</th>\n",
              "      <td>164730</td>\n",
              "      <td>Aparecio Vivo</td>\n",
              "      <td>2021-09-26T00:00:00.000</td>\n",
              "      <td>63</td>\n",
              "      <td>Mujer</td>\n",
              "      <td>Sin información</td>\n",
              "      <td>Sin información</td>\n",
              "      <td>Ninguno</td>\n",
              "      <td>Soacha</td>\n",
              "      <td>Cundinamarca</td>\n",
              "    </tr>\n",
              "    <tr>\n",
              "      <th>164747</th>\n",
              "      <td>164748</td>\n",
              "      <td>Desaparecido</td>\n",
              "      <td>2021-09-28T00:00:00.000</td>\n",
              "      <td>70</td>\n",
              "      <td>Hombre</td>\n",
              "      <td>Separado (a), Divorciado (a)</td>\n",
              "      <td>Educación básica primaria</td>\n",
              "      <td>Ninguno</td>\n",
              "      <td>Bogotá D.C.</td>\n",
              "      <td>Bogotá D.C</td>\n",
              "    </tr>\n",
              "  </tbody>\n",
              "</table>\n",
              "<p>7793 rows × 10 columns</p>\n",
              "</div>"
            ],
            "text/plain": [
              "            ID         status  ...  munic_desap_DANE  dept_desap_DANE\n",
              "33          34   Desaparecido  ...       Bogotá D.C.       Bogotá D.C\n",
              "45          46   Desaparecido  ...       Bogotá D.C.       Bogotá D.C\n",
              "67          68   Desaparecido  ...       Bogotá D.C.       Bogotá D.C\n",
              "86          87  Aparecio Vivo  ...           Soledad        Atlántico\n",
              "107        108   Desaparecido  ...  Santiago de Cali  Valle Del Cauca\n",
              "...        ...            ...  ...               ...              ...\n",
              "164623  164624   Desaparecido  ...           Venecia        Antioquia\n",
              "164658  164659   Desaparecido  ...      Buenaventura  Valle Del Cauca\n",
              "164702  164703   Desaparecido  ...       Bogotá D.C.       Bogotá D.C\n",
              "164729  164730  Aparecio Vivo  ...            Soacha     Cundinamarca\n",
              "164747  164748   Desaparecido  ...       Bogotá D.C.       Bogotá D.C\n",
              "\n",
              "[7793 rows x 10 columns]"
            ]
          },
          "metadata": {},
          "execution_count": 15
        }
      ]
    },
    {
      "cell_type": "markdown",
      "metadata": {
        "id": "NI4MmMZGSzrq"
      },
      "source": [
        "### **5 Transformación de variables**\n",
        "--- "
      ]
    },
    {
      "cell_type": "code",
      "metadata": {
        "id": "McWP1l7XQdi2",
        "colab": {
          "base_uri": "https://localhost:8080/"
        },
        "outputId": "f43b9c6e-7c69-4f37-a785-5af0d06e1c1a"
      },
      "source": [
        "# Primero, se verifican los tipos de variable para determinar cuáles hay que\n",
        "# transformar y a qué tipo\n",
        "datos.info()"
      ],
      "execution_count": null,
      "outputs": [
        {
          "output_type": "stream",
          "name": "stdout",
          "text": [
            "<class 'pandas.core.frame.DataFrame'>\n",
            "Int64Index: 7793 entries, 33 to 164747\n",
            "Data columns (total 10 columns):\n",
            " #   Column            Non-Null Count  Dtype \n",
            "---  ------            --------------  ----- \n",
            " 0   ID                7793 non-null   int64 \n",
            " 1   status            7793 non-null   object\n",
            " 2   fecha             7793 non-null   object\n",
            " 3   edad              7793 non-null   int64 \n",
            " 4   sexo              7793 non-null   object\n",
            " 5   estado_civil      7793 non-null   object\n",
            " 6   escolaridad       7793 non-null   object\n",
            " 7   vulnerabilidad    7793 non-null   object\n",
            " 8   munic_desap_DANE  7793 non-null   object\n",
            " 9   dept_desap_DANE   7793 non-null   object\n",
            "dtypes: int64(2), object(8)\n",
            "memory usage: 669.7+ KB\n"
          ]
        }
      ]
    },
    {
      "cell_type": "markdown",
      "metadata": {
        "id": "9eJZrPcq05WM"
      },
      "source": [
        "#### **a. ID**"
      ]
    },
    {
      "cell_type": "code",
      "metadata": {
        "id": "t6GQZhMn1DUh",
        "colab": {
          "base_uri": "https://localhost:8080/"
        },
        "outputId": "002f6a0f-b6b4-4006-b34e-f0725e5c3cca"
      },
      "source": [
        "datos['ID'] = datos.ID.astype('category')\n",
        "datos.ID.unique()"
      ],
      "execution_count": null,
      "outputs": [
        {
          "output_type": "execute_result",
          "data": {
            "text/plain": [
              "[34, 46, 68, 87, 108, ..., 164624, 164659, 164703, 164730, 164748]\n",
              "Length: 7793\n",
              "Categories (7793, int64): [34, 46, 68, 87, ..., 164659, 164703, 164730, 164748]"
            ]
          },
          "metadata": {},
          "execution_count": 17
        }
      ]
    },
    {
      "cell_type": "markdown",
      "metadata": {
        "id": "vMZUkv8Du4eC"
      },
      "source": [
        "#### **b. Status**\n",
        "Variable de salida."
      ]
    },
    {
      "cell_type": "code",
      "metadata": {
        "id": "CFNnE02ju_eh",
        "colab": {
          "base_uri": "https://localhost:8080/"
        },
        "outputId": "2b91205d-40b1-4176-8c18-809927064a2c"
      },
      "source": [
        "datos['status'] = pd.Categorical(datos.status, categories = [\"Aparecio Vivo\",\n",
        "                                                             \"Desaparecido\"],\n",
        "                                 ordered = False)\n",
        "#datos['status'] = datos.status.astype('category')\n",
        "datos.status.value_counts()            # 5166 con status desaparecido y\n",
        "                                       # 2689 con status de aparecido vivo\n",
        "datos.status.cat.categories"
      ],
      "execution_count": null,
      "outputs": [
        {
          "output_type": "execute_result",
          "data": {
            "text/plain": [
              "Index(['Aparecio Vivo', 'Desaparecido'], dtype='object')"
            ]
          },
          "metadata": {},
          "execution_count": 18
        }
      ]
    },
    {
      "cell_type": "markdown",
      "metadata": {
        "id": "fCKiHEqH1_9F"
      },
      "source": [
        "#### **c. Fecha**\n",
        "\n"
      ]
    },
    {
      "cell_type": "code",
      "metadata": {
        "id": "e965GZ-R2Hnr",
        "colab": {
          "base_uri": "https://localhost:8080/"
        },
        "outputId": "6365f004-e6ad-45ed-f407-dd668fd8edc6"
      },
      "source": [
        "datos['fecha'] = pd.to_datetime(datos.fecha, format = '%Y-%m-%d')\n",
        "datos.fecha"
      ],
      "execution_count": null,
      "outputs": [
        {
          "output_type": "execute_result",
          "data": {
            "text/plain": [
              "33       2006-12-12\n",
              "45       2006-12-25\n",
              "67       2006-12-02\n",
              "86       2007-01-04\n",
              "107      2007-01-01\n",
              "            ...    \n",
              "164623   2021-09-21\n",
              "164658   1989-01-01\n",
              "164702   2021-09-26\n",
              "164729   2021-09-26\n",
              "164747   2021-09-28\n",
              "Name: fecha, Length: 7793, dtype: datetime64[ns]"
            ]
          },
          "metadata": {},
          "execution_count": 19
        }
      ]
    },
    {
      "cell_type": "code",
      "metadata": {
        "id": "S2qXE4em4ULX"
      },
      "source": [
        "# Número de días desde el reporte de la desaparición: utilizaremos esta variable,\n",
        "# ya que muchas observaciones tendrán menos de un año desde la desaparición\n",
        "datos['dias'] = datetime.strptime('2021-11-30', '%Y-%m-%d') - datos.fecha\n",
        "datos['dias'] = datos.dias.astype('string').str.replace(' days', '').astype('int')"
      ],
      "execution_count": null,
      "outputs": []
    },
    {
      "cell_type": "code",
      "metadata": {
        "id": "Eq3X-KCi7XBc",
        "colab": {
          "base_uri": "https://localhost:8080/"
        },
        "outputId": "187d701c-8cb2-462e-9a2b-791ca498e3c6"
      },
      "source": [
        "# Sacamos dos variables de la variable de fecha: año y mes, para poder analizar\n",
        "# su contribución al modelo predictivo por separado.\n",
        "datos['mes'] = datos.fecha.dt.month        \n",
        "datos['año'] = datos.fecha.dt.year         \n",
        "datos.año.value_counts(), datos.mes.value_counts()"
      ],
      "execution_count": null,
      "outputs": [
        {
          "output_type": "execute_result",
          "data": {
            "text/plain": [
              "(2019    483\n",
              " 2018    462\n",
              " 2012    449\n",
              " 2015    440\n",
              " 2013    428\n",
              "        ... \n",
              " 1937      1\n",
              " 1954      1\n",
              " 1963      1\n",
              " 1967      1\n",
              " 1950      1\n",
              " Name: año, Length: 67, dtype: int64, 1     959\n",
              " 12    683\n",
              " 8     647\n",
              " 7     642\n",
              " 11    632\n",
              " 4     620\n",
              " 10    619\n",
              " 6     617\n",
              " 5     610\n",
              " 3     609\n",
              " 9     584\n",
              " 2     571\n",
              " Name: mes, dtype: int64)"
            ]
          },
          "metadata": {},
          "execution_count": 21
        }
      ]
    },
    {
      "cell_type": "code",
      "metadata": {
        "colab": {
          "base_uri": "https://localhost:8080/"
        },
        "id": "_oSqx3GKPDvh",
        "outputId": "d18d366e-1fe4-4f2c-ccc5-d138b95b2d39"
      },
      "source": [
        "filtro = (datos['año'] == 2021) & (datos['mes'] >= 7)\n",
        "datos = datos[filtro]\n",
        "len(datos) #93"
      ],
      "execution_count": null,
      "outputs": [
        {
          "output_type": "execute_result",
          "data": {
            "text/plain": [
              "93"
            ]
          },
          "metadata": {},
          "execution_count": 22
        }
      ]
    },
    {
      "cell_type": "code",
      "metadata": {
        "id": "PMsLWG9aL3gJ"
      },
      "source": [
        "# Podemos eliminar la columna de fecha\n",
        "datos = datos.drop(columns = \"fecha\")"
      ],
      "execution_count": null,
      "outputs": []
    },
    {
      "cell_type": "code",
      "metadata": {
        "id": "-20fAx_EI1c2",
        "colab": {
          "base_uri": "https://localhost:8080/"
        },
        "outputId": "2e8178ed-1eae-4451-bc35-75bc8fcd7bd6"
      },
      "source": [
        "# Volvemos categórica la variable mes\n",
        "datos.mes = datos.mes.astype('category')\n",
        "datos.mes.value_counts()"
      ],
      "execution_count": null,
      "outputs": [
        {
          "output_type": "execute_result",
          "data": {
            "text/plain": [
              "7    44\n",
              "9    26\n",
              "8    23\n",
              "Name: mes, dtype: int64"
            ]
          },
          "metadata": {},
          "execution_count": 24
        }
      ]
    },
    {
      "cell_type": "markdown",
      "metadata": {
        "id": "pt6Gq4bv5MHY"
      },
      "source": [
        "#### **d. Sexo**"
      ]
    },
    {
      "cell_type": "code",
      "metadata": {
        "id": "Iy0wgbOq1-fe",
        "colab": {
          "base_uri": "https://localhost:8080/"
        },
        "outputId": "743bc558-dfdc-4a1a-e176-3fac6a435393"
      },
      "source": [
        "datos['sexo'] = datos.sexo.astype('category')\n",
        "datos.sexo.value_counts()         # Se observa un enorme disbalance entre hom-\n",
        "                                  # bres y mujeres, ya que hay casi 4x más\n",
        "                                  # hombres que mujeres."
      ],
      "execution_count": null,
      "outputs": [
        {
          "output_type": "execute_result",
          "data": {
            "text/plain": [
              "Hombre    72\n",
              "Mujer     21\n",
              "Name: sexo, dtype: int64"
            ]
          },
          "metadata": {},
          "execution_count": 25
        }
      ]
    },
    {
      "cell_type": "markdown",
      "metadata": {
        "id": "Kz6Val2euQZC"
      },
      "source": [
        "#### **e. Estado civil**\n"
      ]
    },
    {
      "cell_type": "code",
      "metadata": {
        "id": "0NRLYSUZymDt",
        "colab": {
          "base_uri": "https://localhost:8080/"
        },
        "outputId": "acb7f0e0-a849-4171-f484-7462f1c81896"
      },
      "source": [
        "# Aquí podemos tener varias opciones, así que verificamos primero qué valores\n",
        "# únicos hay\n",
        "datos.estado_civil.unique()"
      ],
      "execution_count": null,
      "outputs": [
        {
          "output_type": "execute_result",
          "data": {
            "text/plain": [
              "array(['Sin información', 'Casado (a)', 'Soltero (a)', 'Unión libre',\n",
              "       'Separado (a), Divorciado (a)', 'Viudo (a)'], dtype=object)"
            ]
          },
          "metadata": {},
          "execution_count": 26
        }
      ]
    },
    {
      "cell_type": "code",
      "metadata": {
        "id": "xwBghkDWyuFq",
        "colab": {
          "base_uri": "https://localhost:8080/"
        },
        "outputId": "02a76e51-aafd-4260-e358-934654d4242f"
      },
      "source": [
        "# No necesitamos todas las categorías, pues algunas se pueden solapar, como\n",
        "# por ejemplo \"unión libre\" y \"casado\" (relación actual) o \"separado\" y \n",
        "# \"viudo\" (relación pasada), las cuales cumplen la misma función para la idea\n",
        "# que se tiene sobre el rol de esta variable en el pronóstico\n",
        "datos['relacion'] = datos['estado_civil']\\\n",
        ".replace(['Unión libre', 'Casado (a)',\\\n",
        "          'Separado (a), Divorciado (a)', 'Viudo (a)',\\\n",
        "          'Soltero (a)'],\\\n",
        "         ['actual', 'actual', 'pasada', 'pasada', 'ninguna'])\n",
        "datos.relacion.value_counts()"
      ],
      "execution_count": null,
      "outputs": [
        {
          "output_type": "execute_result",
          "data": {
            "text/plain": [
              "actual             37\n",
              "ninguna            29\n",
              "pasada             21\n",
              "Sin información     6\n",
              "Name: relacion, dtype: int64"
            ]
          },
          "metadata": {},
          "execution_count": 27
        }
      ]
    },
    {
      "cell_type": "code",
      "metadata": {
        "id": "GyhWG0j-MGtp"
      },
      "source": [
        "# Eliminamos la columna de estado civil\n",
        "datos = datos.drop(columns = \"estado_civil\")"
      ],
      "execution_count": null,
      "outputs": []
    },
    {
      "cell_type": "code",
      "metadata": {
        "id": "kLH-RMq19qd0"
      },
      "source": [
        "# Volvemos NaN los registros sin información\n",
        "datos.relacion = datos.relacion.replace(\"Sin información\", np.NaN)"
      ],
      "execution_count": null,
      "outputs": []
    },
    {
      "cell_type": "code",
      "metadata": {
        "id": "7IBT319_-ozB"
      },
      "source": [
        "# Volvemos categoría esta variable\n",
        "datos.relacion = datos.relacion.astype('category')"
      ],
      "execution_count": null,
      "outputs": []
    },
    {
      "cell_type": "markdown",
      "metadata": {
        "id": "7Y70Xp498RCy"
      },
      "source": [
        "#### **f. Escolaridad**"
      ]
    },
    {
      "cell_type": "code",
      "metadata": {
        "id": "K67mnSEyITfL",
        "colab": {
          "base_uri": "https://localhost:8080/"
        },
        "outputId": "44e1d57e-a766-48e0-85b4-5f3d80e10c5d"
      },
      "source": [
        "# Primero, verificamos qué niveles están comprendidos en esta variable\n",
        "datos['escolaridad'].unique()"
      ],
      "execution_count": null,
      "outputs": [
        {
          "output_type": "execute_result",
          "data": {
            "text/plain": [
              "array(['Educación inicial y educación preescolar',\n",
              "       'Educación media o secundaria alta', 'Educación básica primaria',\n",
              "       'Educación básica secundaria o secundaria baja', 'Sin escolaridad',\n",
              "       'Sin información', 'Educación técnica profesional y tecnológica'],\n",
              "      dtype=object)"
            ]
          },
          "metadata": {},
          "execution_count": 31
        }
      ]
    },
    {
      "cell_type": "code",
      "metadata": {
        "id": "_3YRfJKMIs42"
      },
      "source": [
        "# Como los niveles educativos tienen una duración más o menos conocida, conver-\n",
        "# tiremos esta variable a cuantitativa, de tal manera que refleje los años de\n",
        "# educación, ya que así puede ser más útil para el modelo. Como es una escala\n",
        "# aproximada (porque no sabemos exactamente los años de escolaridad), utiliza-\n",
        "# remos saltos de 2.5 años, para que todos los niveles queden con la misma\n",
        "# distancia y debido a que un nivel se cimienta sobre el anterior.\n",
        "datos['escolaridad'] = datos.escolaridad.replace({'Sin escolaridad':0})\\\n",
        "                                   .replace({'Educación inicial y educación preescolar':2.5})\\\n",
        "                                   .replace({'Educación básica primaria':5})\\\n",
        "                                   .replace({'Educación básica secundaria o secundaria baja':7.5})\\\n",
        "                                   .replace({'Educación media o secundaria alta':10})\\\n",
        "                                   .replace({'Educación técnica profesional y tecnológica':12.5})\\\n",
        "                                   .replace({'Universitario':15})\\\n",
        "                                   .replace({'Especialización, Maestría o equivalente':17.5})\\\n",
        "                                   .replace({'Doctorado o equivalente':20})\\"
      ],
      "execution_count": null,
      "outputs": []
    },
    {
      "cell_type": "code",
      "metadata": {
        "id": "qKJaKtsb8Rs8",
        "colab": {
          "base_uri": "https://localhost:8080/"
        },
        "outputId": "b7119b0f-c1b1-4180-e4e4-983af456b7e9"
      },
      "source": [
        "# Verificamos la frecuencia valores en esta variable\n",
        "datos['escolaridad'].value_counts()        # Hay 2063 registros sin información"
      ],
      "execution_count": null,
      "outputs": [
        {
          "output_type": "execute_result",
          "data": {
            "text/plain": [
              "5                  35\n",
              "10                 15\n",
              "Sin información    14\n",
              "2.5                10\n",
              "12.5                8\n",
              "0                   6\n",
              "7.5                 5\n",
              "Name: escolaridad, dtype: int64"
            ]
          },
          "metadata": {},
          "execution_count": 33
        }
      ]
    },
    {
      "cell_type": "code",
      "metadata": {
        "id": "NiD8inLz5Fdu"
      },
      "source": [
        "# Volvemos NaN los registros sin información\n",
        "datos.escolaridad = datos.escolaridad.replace(\"Sin información\", np.NaN)"
      ],
      "execution_count": null,
      "outputs": []
    },
    {
      "cell_type": "markdown",
      "metadata": {
        "id": "jV76t0vpLZ0a"
      },
      "source": [
        "#### **g. Factor de vulnerabilidad**"
      ]
    },
    {
      "cell_type": "code",
      "metadata": {
        "id": "o5TA7BcGXGFt",
        "colab": {
          "base_uri": "https://localhost:8080/"
        },
        "outputId": "3098fb94-3aea-4243-e67a-3912cc76ef5e"
      },
      "source": [
        "# Al igual que con la variable anterior, verificamos qué niveles están\n",
        "# comprendidos en esta variable\n",
        "datos['vulnerabilidad'].unique()"
      ],
      "execution_count": null,
      "outputs": [
        {
          "output_type": "execute_result",
          "data": {
            "text/plain": [
              "array(['Ninguno', 'Sin información', 'Discapacitados (as)',\n",
              "       'Persona adicta a una droga natural o sintética',\n",
              "       'Persona habitante de la calle'], dtype=object)"
            ]
          },
          "metadata": {},
          "execution_count": 35
        }
      ]
    },
    {
      "cell_type": "code",
      "metadata": {
        "id": "q-isM7xDXuJ6",
        "colab": {
          "base_uri": "https://localhost:8080/"
        },
        "outputId": "efac57da-4868-4620-f064-e63bf420b63d"
      },
      "source": [
        "# Como hay tantos y tan variados niveles, ahora verificamos cuántos valores\n",
        "# hay en cada uno para encontrar una manera de convertirlos\n",
        "datos['vulnerabilidad'].value_counts()"
      ],
      "execution_count": null,
      "outputs": [
        {
          "output_type": "execute_result",
          "data": {
            "text/plain": [
              "Ninguno                                           81\n",
              "Sin información                                    6\n",
              "Discapacitados (as)                                3\n",
              "Persona adicta a una droga natural o sintética     2\n",
              "Persona habitante de la calle                      1\n",
              "Name: vulnerabilidad, dtype: int64"
            ]
          },
          "metadata": {},
          "execution_count": 36
        }
      ]
    },
    {
      "cell_type": "code",
      "metadata": {
        "id": "_o117XEkY1QE",
        "colab": {
          "base_uri": "https://localhost:8080/"
        },
        "outputId": "4c8d8396-f4fa-47ee-e548-8a0b8aad6842"
      },
      "source": [
        "# Ya que hay números pequeños en algunos niveles de la variable, será mejor\n",
        "# categorizarla en 2 niveles: sin (0) y con (1) algún factor de vulnerabilidad\n",
        "filtro = (datos.vulnerabilidad != 'Ninguno') &\\\n",
        "(datos.vulnerabilidad != 'Sin información')\n",
        "datos.loc[filtro, 'vulnerabilidad'] = 'Sí'\n",
        "datos.loc[(datos.vulnerabilidad == 'Ninguno'), 'vulnerabilidad'] = 'No'\n",
        "datos['vulnerabilidad'].value_counts()     # Hay 1460 registros sin información"
      ],
      "execution_count": null,
      "outputs": [
        {
          "output_type": "execute_result",
          "data": {
            "text/plain": [
              "No                 81\n",
              "Sí                  6\n",
              "Sin información     6\n",
              "Name: vulnerabilidad, dtype: int64"
            ]
          },
          "metadata": {},
          "execution_count": 37
        }
      ]
    },
    {
      "cell_type": "code",
      "metadata": {
        "id": "e_d_C0SQ9xHA"
      },
      "source": [
        "# Volvemos NaN los registros sin información\n",
        "datos.vulnerabilidad = datos.vulnerabilidad.replace(\"Sin información\", np.NaN)"
      ],
      "execution_count": null,
      "outputs": []
    },
    {
      "cell_type": "code",
      "metadata": {
        "id": "8EbkAdtg958C"
      },
      "source": [
        "# Volvemos categoría esta variable\n",
        "datos.vulnerabilidad = datos.vulnerabilidad.astype('category')"
      ],
      "execution_count": null,
      "outputs": []
    },
    {
      "cell_type": "markdown",
      "metadata": {
        "id": "CHt5bY9kLdFV"
      },
      "source": [
        "#### **h. Lugar (municipio y departamento) de desaparición**"
      ]
    },
    {
      "cell_type": "code",
      "metadata": {
        "id": "8eqZafl0XQVa",
        "colab": {
          "base_uri": "https://localhost:8080/"
        },
        "outputId": "ebb39271-a961-44f0-a77c-13ce9e330043"
      },
      "source": [
        "# Revisamos primero los datos de esta variable: tenemos 635 datos únicos\n",
        "len(datos.munic_desap_DANE.unique())      # == 635\n",
        "sorted(datos.munic_desap_DANE.unique())"
      ],
      "execution_count": null,
      "outputs": [
        {
          "output_type": "execute_result",
          "data": {
            "text/plain": [
              "['Barranquilla',\n",
              " 'Bogotá D.C.',\n",
              " 'Bucaramanga',\n",
              " 'Calamar',\n",
              " 'Cartago',\n",
              " 'Cúcuta',\n",
              " 'Facatativá',\n",
              " 'Ibagué',\n",
              " 'Jamundí',\n",
              " 'La Plata',\n",
              " 'Leticia',\n",
              " 'Macheta',\n",
              " 'Manizales',\n",
              " 'Medellín',\n",
              " 'Neiva',\n",
              " 'Pasto',\n",
              " 'Pereira',\n",
              " 'Rionegro',\n",
              " 'San Cayetano',\n",
              " 'Santa Marta',\n",
              " 'Santiago de Cali',\n",
              " 'Sibaté',\n",
              " 'Soacha',\n",
              " 'Sogamoso',\n",
              " 'Solita',\n",
              " 'Tunja',\n",
              " 'Venecia',\n",
              " 'Villa de Leyva']"
            ]
          },
          "metadata": {},
          "execution_count": 40
        }
      ]
    },
    {
      "cell_type": "code",
      "metadata": {
        "id": "YPXr8xaMrR6d",
        "colab": {
          "base_uri": "https://localhost:8080/",
          "height": 424
        },
        "outputId": "be8bd89d-a67f-4160-86f0-cc14a4353250"
      },
      "source": [
        "# Utilizaremos una base de datos creada a partir de web-scraping\n",
        "# de la página de Wikipedia\n",
        "# (https://es.wikipedia.org/wiki/Municipios_de_Colombia) y sus respectivos\n",
        "# anexos (por ejemplo: https://es.wikipedia.org/wiki/Anexo:Municipios_de_Huila)\n",
        "# gracias a la colaboración con https://github.com/virtualmarioe:\n",
        "municipios = pd.read_csv(\"https://drive.google.com/uc?id=1MWGzeFSmTUhuXLO3dNf-6YmhW-ajpVai\")\n",
        "municipios"
      ],
      "execution_count": null,
      "outputs": [
        {
          "output_type": "execute_result",
          "data": {
            "text/html": [
              "<div>\n",
              "<style scoped>\n",
              "    .dataframe tbody tr th:only-of-type {\n",
              "        vertical-align: middle;\n",
              "    }\n",
              "\n",
              "    .dataframe tbody tr th {\n",
              "        vertical-align: top;\n",
              "    }\n",
              "\n",
              "    .dataframe thead th {\n",
              "        text-align: right;\n",
              "    }\n",
              "</style>\n",
              "<table border=\"1\" class=\"dataframe\">\n",
              "  <thead>\n",
              "    <tr style=\"text-align: right;\">\n",
              "      <th></th>\n",
              "      <th>Unnamed: 0</th>\n",
              "      <th>index</th>\n",
              "      <th>Municipio</th>\n",
              "      <th>Departamento</th>\n",
              "      <th>Habitantes</th>\n",
              "    </tr>\n",
              "  </thead>\n",
              "  <tbody>\n",
              "    <tr>\n",
              "      <th>0</th>\n",
              "      <td>0</td>\n",
              "      <td>0</td>\n",
              "      <td>El Encanto</td>\n",
              "      <td>Amazonas</td>\n",
              "      <td>4884</td>\n",
              "    </tr>\n",
              "    <tr>\n",
              "      <th>1</th>\n",
              "      <td>1</td>\n",
              "      <td>1</td>\n",
              "      <td>La Chorrera</td>\n",
              "      <td>Amazonas</td>\n",
              "      <td>3933</td>\n",
              "    </tr>\n",
              "    <tr>\n",
              "      <th>2</th>\n",
              "      <td>2</td>\n",
              "      <td>2</td>\n",
              "      <td>La Pedrera</td>\n",
              "      <td>Amazonas</td>\n",
              "      <td>5125</td>\n",
              "    </tr>\n",
              "    <tr>\n",
              "      <th>3</th>\n",
              "      <td>3</td>\n",
              "      <td>3</td>\n",
              "      <td>La Victoria</td>\n",
              "      <td>Amazonas</td>\n",
              "      <td>1115</td>\n",
              "    </tr>\n",
              "    <tr>\n",
              "      <th>4</th>\n",
              "      <td>4</td>\n",
              "      <td>4</td>\n",
              "      <td>Leticia</td>\n",
              "      <td>Amazonas</td>\n",
              "      <td>41639</td>\n",
              "    </tr>\n",
              "    <tr>\n",
              "      <th>...</th>\n",
              "      <td>...</td>\n",
              "      <td>...</td>\n",
              "      <td>...</td>\n",
              "      <td>...</td>\n",
              "      <td>...</td>\n",
              "    </tr>\n",
              "    <tr>\n",
              "      <th>1689</th>\n",
              "      <td>1689</td>\n",
              "      <td>15</td>\n",
              "      <td>Puente Aranda</td>\n",
              "      <td>Bogotá</td>\n",
              "      <td>258287</td>\n",
              "    </tr>\n",
              "    <tr>\n",
              "      <th>1690</th>\n",
              "      <td>1690</td>\n",
              "      <td>16</td>\n",
              "      <td>La Candelaria</td>\n",
              "      <td>Bogotá</td>\n",
              "      <td>24088</td>\n",
              "    </tr>\n",
              "    <tr>\n",
              "      <th>1691</th>\n",
              "      <td>1691</td>\n",
              "      <td>17</td>\n",
              "      <td>Rafael Uribe Uribe</td>\n",
              "      <td>Bogotá</td>\n",
              "      <td>374246</td>\n",
              "    </tr>\n",
              "    <tr>\n",
              "      <th>1692</th>\n",
              "      <td>1692</td>\n",
              "      <td>18</td>\n",
              "      <td>Ciudad Bolívar</td>\n",
              "      <td>Bogotá</td>\n",
              "      <td>733859</td>\n",
              "    </tr>\n",
              "    <tr>\n",
              "      <th>1693</th>\n",
              "      <td>1693</td>\n",
              "      <td>19</td>\n",
              "      <td>Sumapaz</td>\n",
              "      <td>Bogotá</td>\n",
              "      <td>6531</td>\n",
              "    </tr>\n",
              "  </tbody>\n",
              "</table>\n",
              "<p>1694 rows × 5 columns</p>\n",
              "</div>"
            ],
            "text/plain": [
              "      Unnamed: 0  index           Municipio Departamento Habitantes\n",
              "0              0      0          El Encanto     Amazonas       4884\n",
              "1              1      1         La Chorrera     Amazonas       3933\n",
              "2              2      2          La Pedrera     Amazonas       5125\n",
              "3              3      3         La Victoria     Amazonas       1115\n",
              "4              4      4             Leticia     Amazonas      41639\n",
              "...          ...    ...                 ...          ...        ...\n",
              "1689        1689     15       Puente Aranda       Bogotá     258287\n",
              "1690        1690     16       La Candelaria       Bogotá      24088\n",
              "1691        1691     17  Rafael Uribe Uribe       Bogotá     374246\n",
              "1692        1692     18      Ciudad Bolívar       Bogotá     733859\n",
              "1693        1693     19             Sumapaz       Bogotá       6531\n",
              "\n",
              "[1694 rows x 5 columns]"
            ]
          },
          "metadata": {},
          "execution_count": 41
        }
      ]
    },
    {
      "cell_type": "code",
      "metadata": {
        "id": "sBMe2H1OxQoL",
        "colab": {
          "base_uri": "https://localhost:8080/",
          "height": 424
        },
        "outputId": "c67e8d48-399b-42e8-b228-52629287dc2f"
      },
      "source": [
        "# Limpiamos la base de datos\n",
        "municipios = municipios.drop(columns=['Unnamed: 0', 'index'])\n",
        "municipios"
      ],
      "execution_count": null,
      "outputs": [
        {
          "output_type": "execute_result",
          "data": {
            "text/html": [
              "<div>\n",
              "<style scoped>\n",
              "    .dataframe tbody tr th:only-of-type {\n",
              "        vertical-align: middle;\n",
              "    }\n",
              "\n",
              "    .dataframe tbody tr th {\n",
              "        vertical-align: top;\n",
              "    }\n",
              "\n",
              "    .dataframe thead th {\n",
              "        text-align: right;\n",
              "    }\n",
              "</style>\n",
              "<table border=\"1\" class=\"dataframe\">\n",
              "  <thead>\n",
              "    <tr style=\"text-align: right;\">\n",
              "      <th></th>\n",
              "      <th>Municipio</th>\n",
              "      <th>Departamento</th>\n",
              "      <th>Habitantes</th>\n",
              "    </tr>\n",
              "  </thead>\n",
              "  <tbody>\n",
              "    <tr>\n",
              "      <th>0</th>\n",
              "      <td>El Encanto</td>\n",
              "      <td>Amazonas</td>\n",
              "      <td>4884</td>\n",
              "    </tr>\n",
              "    <tr>\n",
              "      <th>1</th>\n",
              "      <td>La Chorrera</td>\n",
              "      <td>Amazonas</td>\n",
              "      <td>3933</td>\n",
              "    </tr>\n",
              "    <tr>\n",
              "      <th>2</th>\n",
              "      <td>La Pedrera</td>\n",
              "      <td>Amazonas</td>\n",
              "      <td>5125</td>\n",
              "    </tr>\n",
              "    <tr>\n",
              "      <th>3</th>\n",
              "      <td>La Victoria</td>\n",
              "      <td>Amazonas</td>\n",
              "      <td>1115</td>\n",
              "    </tr>\n",
              "    <tr>\n",
              "      <th>4</th>\n",
              "      <td>Leticia</td>\n",
              "      <td>Amazonas</td>\n",
              "      <td>41639</td>\n",
              "    </tr>\n",
              "    <tr>\n",
              "      <th>...</th>\n",
              "      <td>...</td>\n",
              "      <td>...</td>\n",
              "      <td>...</td>\n",
              "    </tr>\n",
              "    <tr>\n",
              "      <th>1689</th>\n",
              "      <td>Puente Aranda</td>\n",
              "      <td>Bogotá</td>\n",
              "      <td>258287</td>\n",
              "    </tr>\n",
              "    <tr>\n",
              "      <th>1690</th>\n",
              "      <td>La Candelaria</td>\n",
              "      <td>Bogotá</td>\n",
              "      <td>24088</td>\n",
              "    </tr>\n",
              "    <tr>\n",
              "      <th>1691</th>\n",
              "      <td>Rafael Uribe Uribe</td>\n",
              "      <td>Bogotá</td>\n",
              "      <td>374246</td>\n",
              "    </tr>\n",
              "    <tr>\n",
              "      <th>1692</th>\n",
              "      <td>Ciudad Bolívar</td>\n",
              "      <td>Bogotá</td>\n",
              "      <td>733859</td>\n",
              "    </tr>\n",
              "    <tr>\n",
              "      <th>1693</th>\n",
              "      <td>Sumapaz</td>\n",
              "      <td>Bogotá</td>\n",
              "      <td>6531</td>\n",
              "    </tr>\n",
              "  </tbody>\n",
              "</table>\n",
              "<p>1694 rows × 3 columns</p>\n",
              "</div>"
            ],
            "text/plain": [
              "               Municipio Departamento Habitantes\n",
              "0             El Encanto     Amazonas       4884\n",
              "1            La Chorrera     Amazonas       3933\n",
              "2             La Pedrera     Amazonas       5125\n",
              "3            La Victoria     Amazonas       1115\n",
              "4                Leticia     Amazonas      41639\n",
              "...                  ...          ...        ...\n",
              "1689       Puente Aranda       Bogotá     258287\n",
              "1690       La Candelaria       Bogotá      24088\n",
              "1691  Rafael Uribe Uribe       Bogotá     374246\n",
              "1692      Ciudad Bolívar       Bogotá     733859\n",
              "1693             Sumapaz       Bogotá       6531\n",
              "\n",
              "[1694 rows x 3 columns]"
            ]
          },
          "metadata": {},
          "execution_count": 42
        }
      ]
    },
    {
      "cell_type": "code",
      "metadata": {
        "id": "3lWk84lVzZ1g",
        "colab": {
          "base_uri": "https://localhost:8080/",
          "height": 424
        },
        "outputId": "3c5401ca-3aee-4a1e-9bcf-491e872a223a"
      },
      "source": [
        "# Hay un espacio en la columna de habitantes, por lo cual debemos eliminarlo\n",
        "municipios.Habitantes[0]            # Lo visualizamos: '4\\xa0884' \n",
        "municipios.Habitantes = municipios.Habitantes.replace(u'\\xa0', '', regex = True)\\\n",
        ".replace('\\.', '', regex = True)\\\n",
        ".replace('\\D', '', regex = True)  # Para borrar espacios donde no hay dígitos\n",
        "municipios"
      ],
      "execution_count": null,
      "outputs": [
        {
          "output_type": "execute_result",
          "data": {
            "text/html": [
              "<div>\n",
              "<style scoped>\n",
              "    .dataframe tbody tr th:only-of-type {\n",
              "        vertical-align: middle;\n",
              "    }\n",
              "\n",
              "    .dataframe tbody tr th {\n",
              "        vertical-align: top;\n",
              "    }\n",
              "\n",
              "    .dataframe thead th {\n",
              "        text-align: right;\n",
              "    }\n",
              "</style>\n",
              "<table border=\"1\" class=\"dataframe\">\n",
              "  <thead>\n",
              "    <tr style=\"text-align: right;\">\n",
              "      <th></th>\n",
              "      <th>Municipio</th>\n",
              "      <th>Departamento</th>\n",
              "      <th>Habitantes</th>\n",
              "    </tr>\n",
              "  </thead>\n",
              "  <tbody>\n",
              "    <tr>\n",
              "      <th>0</th>\n",
              "      <td>El Encanto</td>\n",
              "      <td>Amazonas</td>\n",
              "      <td>4884</td>\n",
              "    </tr>\n",
              "    <tr>\n",
              "      <th>1</th>\n",
              "      <td>La Chorrera</td>\n",
              "      <td>Amazonas</td>\n",
              "      <td>3933</td>\n",
              "    </tr>\n",
              "    <tr>\n",
              "      <th>2</th>\n",
              "      <td>La Pedrera</td>\n",
              "      <td>Amazonas</td>\n",
              "      <td>5125</td>\n",
              "    </tr>\n",
              "    <tr>\n",
              "      <th>3</th>\n",
              "      <td>La Victoria</td>\n",
              "      <td>Amazonas</td>\n",
              "      <td>1115</td>\n",
              "    </tr>\n",
              "    <tr>\n",
              "      <th>4</th>\n",
              "      <td>Leticia</td>\n",
              "      <td>Amazonas</td>\n",
              "      <td>41639</td>\n",
              "    </tr>\n",
              "    <tr>\n",
              "      <th>...</th>\n",
              "      <td>...</td>\n",
              "      <td>...</td>\n",
              "      <td>...</td>\n",
              "    </tr>\n",
              "    <tr>\n",
              "      <th>1689</th>\n",
              "      <td>Puente Aranda</td>\n",
              "      <td>Bogotá</td>\n",
              "      <td>258287</td>\n",
              "    </tr>\n",
              "    <tr>\n",
              "      <th>1690</th>\n",
              "      <td>La Candelaria</td>\n",
              "      <td>Bogotá</td>\n",
              "      <td>24088</td>\n",
              "    </tr>\n",
              "    <tr>\n",
              "      <th>1691</th>\n",
              "      <td>Rafael Uribe Uribe</td>\n",
              "      <td>Bogotá</td>\n",
              "      <td>374246</td>\n",
              "    </tr>\n",
              "    <tr>\n",
              "      <th>1692</th>\n",
              "      <td>Ciudad Bolívar</td>\n",
              "      <td>Bogotá</td>\n",
              "      <td>733859</td>\n",
              "    </tr>\n",
              "    <tr>\n",
              "      <th>1693</th>\n",
              "      <td>Sumapaz</td>\n",
              "      <td>Bogotá</td>\n",
              "      <td>6531</td>\n",
              "    </tr>\n",
              "  </tbody>\n",
              "</table>\n",
              "<p>1694 rows × 3 columns</p>\n",
              "</div>"
            ],
            "text/plain": [
              "               Municipio Departamento Habitantes\n",
              "0             El Encanto     Amazonas       4884\n",
              "1            La Chorrera     Amazonas       3933\n",
              "2             La Pedrera     Amazonas       5125\n",
              "3            La Victoria     Amazonas       1115\n",
              "4                Leticia     Amazonas      41639\n",
              "...                  ...          ...        ...\n",
              "1689       Puente Aranda       Bogotá     258287\n",
              "1690       La Candelaria       Bogotá      24088\n",
              "1691  Rafael Uribe Uribe       Bogotá     374246\n",
              "1692      Ciudad Bolívar       Bogotá     733859\n",
              "1693             Sumapaz       Bogotá       6531\n",
              "\n",
              "[1694 rows x 3 columns]"
            ]
          },
          "metadata": {},
          "execution_count": 43
        }
      ]
    },
    {
      "cell_type": "code",
      "metadata": {
        "id": "ME5fIu1yguSk",
        "colab": {
          "base_uri": "https://localhost:8080/"
        },
        "outputId": "2d538cf8-9c3d-4445-b2ca-693750c21e47"
      },
      "source": [
        "# Necesitamos obtener la suma total de Bogotá, D.C., ya que está por localidades\n",
        "# pero al intentar convertir a entero la columna hay errores debido a valores\n",
        "# faltantes. Verificamos cuáles son éstos:\n",
        "print(municipios[municipios['Habitantes'].isnull()])"
      ],
      "execution_count": null,
      "outputs": [
        {
          "output_type": "stream",
          "name": "stdout",
          "text": [
            "    Municipio Departamento Habitantes\n",
            "892  Altamira        Huila        NaN\n",
            "893    Garzón        Huila        NaN\n",
            "894   Gigante        Huila        NaN\n"
          ]
        }
      ]
    },
    {
      "cell_type": "code",
      "metadata": {
        "id": "WYGb6dDShY-_"
      },
      "source": [
        "# Los buscamos manualmente por Google para agregar los valores:\n",
        "municipios.Habitantes[municipios.Municipio == \"Altamira\"] = 4293 # Total 2015\n",
        "municipios.Habitantes[municipios.Municipio == \"Garzón\"] = 96296  # Total 2019\n",
        "municipios.Habitantes[municipios.Municipio == \"Gigante\"] = 34410 # Total 2020"
      ],
      "execution_count": null,
      "outputs": []
    },
    {
      "cell_type": "code",
      "metadata": {
        "id": "U6jfowqeiJ0j",
        "colab": {
          "base_uri": "https://localhost:8080/"
        },
        "outputId": "f104c639-214b-449a-cf29-55f3d4ea801d"
      },
      "source": [
        "# Ahora intentamos nuevamente convertir a entero dicha columna\n",
        "municipios.Habitantes = municipios.Habitantes.astype(int)\n",
        "municipios.Habitantes.describe()"
      ],
      "execution_count": null,
      "outputs": [
        {
          "output_type": "execute_result",
          "data": {
            "text/plain": [
              "count    1.694000e+03\n",
              "mean     4.052021e+04\n",
              "std      1.258991e+05\n",
              "min      3.740000e+02\n",
              "25%      7.876500e+03\n",
              "50%      1.482300e+04\n",
              "75%      2.773700e+04\n",
              "max      2.457680e+06\n",
              "Name: Habitantes, dtype: float64"
            ]
          },
          "metadata": {},
          "execution_count": 46
        }
      ]
    },
    {
      "cell_type": "code",
      "metadata": {
        "id": "X5DhdIiHS2UH",
        "colab": {
          "base_uri": "https://localhost:8080/"
        },
        "outputId": "1c2abcc4-5536-4bea-a3c4-689ceec75b3d"
      },
      "source": [
        "# Añadimos \"Bogotá D.C.\" y su total a la base de datos de municipios\n",
        "total_bog = np.sum(municipios.Habitantes[municipios.Departamento == 'Bogotá'])\n",
        "Bogota = {'Municipio': 'Bogotá D.C.', 'Departamento': 'Bogotá D.C',\n",
        "          'Habitantes': total_bog}\n",
        "municipios = municipios.append(Bogota, ignore_index = True)\n",
        "\n",
        "# Eliminamos las localidades de Bogotá, ya que no las necesitamos\n",
        "municipios = municipios.drop(labels = municipios.index[(municipios.Departamento == \"Bogotá\") &\n",
        "                                                     (municipios.Municipio != \"Bogotá, D.C.\")])\n",
        "municipios.Habitantes"
      ],
      "execution_count": null,
      "outputs": [
        {
          "output_type": "execute_result",
          "data": {
            "text/plain": [
              "0          4884\n",
              "1          3933\n",
              "2          5125\n",
              "3          1115\n",
              "4         41639\n",
              "         ...   \n",
              "1670      37740\n",
              "1671      15886\n",
              "1672      16000\n",
              "1673       4076\n",
              "1694    8076734\n",
              "Name: Habitantes, Length: 1675, dtype: int64"
            ]
          },
          "metadata": {},
          "execution_count": 47
        }
      ]
    },
    {
      "cell_type": "code",
      "metadata": {
        "id": "cIW_gjmFpdNp"
      },
      "source": [
        "# Crear columna de \"municipio\"\n",
        "datos.insert(8, column = \"municipio\", value = 0)"
      ],
      "execution_count": null,
      "outputs": []
    },
    {
      "cell_type": "code",
      "metadata": {
        "id": "Ai7_1gO7nmO1",
        "colab": {
          "base_uri": "https://localhost:8080/",
          "height": 444
        },
        "outputId": "8f0621ab-bf0c-4adc-cee1-e464bfba0202"
      },
      "source": [
        "# Añadimos la información sobre número de habitantes a la columna \"municipio\"\n",
        "for fila in municipios.index:\n",
        "  condicion = (municipios.Municipio[fila] == datos.munic_desap_DANE) &\\\n",
        "  (municipios.Departamento[fila][0:6] == datos.dept_desap_DANE.str.slice(0, 6))\n",
        "  datos.loc[condicion, \"municipio\"] = municipios.Habitantes[fila]\n",
        "datos"
      ],
      "execution_count": null,
      "outputs": [
        {
          "output_type": "execute_result",
          "data": {
            "text/html": [
              "<div>\n",
              "<style scoped>\n",
              "    .dataframe tbody tr th:only-of-type {\n",
              "        vertical-align: middle;\n",
              "    }\n",
              "\n",
              "    .dataframe tbody tr th {\n",
              "        vertical-align: top;\n",
              "    }\n",
              "\n",
              "    .dataframe thead th {\n",
              "        text-align: right;\n",
              "    }\n",
              "</style>\n",
              "<table border=\"1\" class=\"dataframe\">\n",
              "  <thead>\n",
              "    <tr style=\"text-align: right;\">\n",
              "      <th></th>\n",
              "      <th>ID</th>\n",
              "      <th>status</th>\n",
              "      <th>edad</th>\n",
              "      <th>sexo</th>\n",
              "      <th>escolaridad</th>\n",
              "      <th>vulnerabilidad</th>\n",
              "      <th>munic_desap_DANE</th>\n",
              "      <th>dept_desap_DANE</th>\n",
              "      <th>municipio</th>\n",
              "      <th>dias</th>\n",
              "      <th>mes</th>\n",
              "      <th>año</th>\n",
              "      <th>relacion</th>\n",
              "    </tr>\n",
              "  </thead>\n",
              "  <tbody>\n",
              "    <tr>\n",
              "      <th>162460</th>\n",
              "      <td>162461</td>\n",
              "      <td>Aparecio Vivo</td>\n",
              "      <td>69</td>\n",
              "      <td>Hombre</td>\n",
              "      <td>2.5</td>\n",
              "      <td>No</td>\n",
              "      <td>San Cayetano</td>\n",
              "      <td>Cundinamarca</td>\n",
              "      <td>5348</td>\n",
              "      <td>152</td>\n",
              "      <td>7</td>\n",
              "      <td>2021</td>\n",
              "      <td>NaN</td>\n",
              "    </tr>\n",
              "    <tr>\n",
              "      <th>162471</th>\n",
              "      <td>162472</td>\n",
              "      <td>Desaparecido</td>\n",
              "      <td>73</td>\n",
              "      <td>Hombre</td>\n",
              "      <td>10.0</td>\n",
              "      <td>No</td>\n",
              "      <td>Bogotá D.C.</td>\n",
              "      <td>Bogotá D.C</td>\n",
              "      <td>8076734</td>\n",
              "      <td>150</td>\n",
              "      <td>7</td>\n",
              "      <td>2021</td>\n",
              "      <td>actual</td>\n",
              "    </tr>\n",
              "    <tr>\n",
              "      <th>162483</th>\n",
              "      <td>162484</td>\n",
              "      <td>Aparecio Vivo</td>\n",
              "      <td>91</td>\n",
              "      <td>Hombre</td>\n",
              "      <td>5.0</td>\n",
              "      <td>No</td>\n",
              "      <td>Bogotá D.C.</td>\n",
              "      <td>Bogotá D.C</td>\n",
              "      <td>8076734</td>\n",
              "      <td>150</td>\n",
              "      <td>7</td>\n",
              "      <td>2021</td>\n",
              "      <td>actual</td>\n",
              "    </tr>\n",
              "    <tr>\n",
              "      <th>162497</th>\n",
              "      <td>162498</td>\n",
              "      <td>Desaparecido</td>\n",
              "      <td>76</td>\n",
              "      <td>Hombre</td>\n",
              "      <td>7.5</td>\n",
              "      <td>No</td>\n",
              "      <td>Bogotá D.C.</td>\n",
              "      <td>Bogotá D.C</td>\n",
              "      <td>8076734</td>\n",
              "      <td>149</td>\n",
              "      <td>7</td>\n",
              "      <td>2021</td>\n",
              "      <td>ninguna</td>\n",
              "    </tr>\n",
              "    <tr>\n",
              "      <th>162501</th>\n",
              "      <td>162502</td>\n",
              "      <td>Aparecio Vivo</td>\n",
              "      <td>61</td>\n",
              "      <td>Hombre</td>\n",
              "      <td>5.0</td>\n",
              "      <td>No</td>\n",
              "      <td>Bogotá D.C.</td>\n",
              "      <td>Bogotá D.C</td>\n",
              "      <td>8076734</td>\n",
              "      <td>152</td>\n",
              "      <td>7</td>\n",
              "      <td>2021</td>\n",
              "      <td>actual</td>\n",
              "    </tr>\n",
              "    <tr>\n",
              "      <th>...</th>\n",
              "      <td>...</td>\n",
              "      <td>...</td>\n",
              "      <td>...</td>\n",
              "      <td>...</td>\n",
              "      <td>...</td>\n",
              "      <td>...</td>\n",
              "      <td>...</td>\n",
              "      <td>...</td>\n",
              "      <td>...</td>\n",
              "      <td>...</td>\n",
              "      <td>...</td>\n",
              "      <td>...</td>\n",
              "      <td>...</td>\n",
              "    </tr>\n",
              "    <tr>\n",
              "      <th>164604</th>\n",
              "      <td>164605</td>\n",
              "      <td>Desaparecido</td>\n",
              "      <td>71</td>\n",
              "      <td>Hombre</td>\n",
              "      <td>2.5</td>\n",
              "      <td>No</td>\n",
              "      <td>Manizales</td>\n",
              "      <td>Caldas</td>\n",
              "      <td>397488</td>\n",
              "      <td>69</td>\n",
              "      <td>9</td>\n",
              "      <td>2021</td>\n",
              "      <td>pasada</td>\n",
              "    </tr>\n",
              "    <tr>\n",
              "      <th>164623</th>\n",
              "      <td>164624</td>\n",
              "      <td>Desaparecido</td>\n",
              "      <td>67</td>\n",
              "      <td>Mujer</td>\n",
              "      <td>10.0</td>\n",
              "      <td>No</td>\n",
              "      <td>Venecia</td>\n",
              "      <td>Antioquia</td>\n",
              "      <td>13231</td>\n",
              "      <td>70</td>\n",
              "      <td>9</td>\n",
              "      <td>2021</td>\n",
              "      <td>actual</td>\n",
              "    </tr>\n",
              "    <tr>\n",
              "      <th>164702</th>\n",
              "      <td>164703</td>\n",
              "      <td>Desaparecido</td>\n",
              "      <td>64</td>\n",
              "      <td>Mujer</td>\n",
              "      <td>0.0</td>\n",
              "      <td>No</td>\n",
              "      <td>Bogotá D.C.</td>\n",
              "      <td>Bogotá D.C</td>\n",
              "      <td>8076734</td>\n",
              "      <td>65</td>\n",
              "      <td>9</td>\n",
              "      <td>2021</td>\n",
              "      <td>pasada</td>\n",
              "    </tr>\n",
              "    <tr>\n",
              "      <th>164729</th>\n",
              "      <td>164730</td>\n",
              "      <td>Aparecio Vivo</td>\n",
              "      <td>63</td>\n",
              "      <td>Mujer</td>\n",
              "      <td>NaN</td>\n",
              "      <td>No</td>\n",
              "      <td>Soacha</td>\n",
              "      <td>Cundinamarca</td>\n",
              "      <td>522442</td>\n",
              "      <td>65</td>\n",
              "      <td>9</td>\n",
              "      <td>2021</td>\n",
              "      <td>NaN</td>\n",
              "    </tr>\n",
              "    <tr>\n",
              "      <th>164747</th>\n",
              "      <td>164748</td>\n",
              "      <td>Desaparecido</td>\n",
              "      <td>70</td>\n",
              "      <td>Hombre</td>\n",
              "      <td>5.0</td>\n",
              "      <td>No</td>\n",
              "      <td>Bogotá D.C.</td>\n",
              "      <td>Bogotá D.C</td>\n",
              "      <td>8076734</td>\n",
              "      <td>63</td>\n",
              "      <td>9</td>\n",
              "      <td>2021</td>\n",
              "      <td>pasada</td>\n",
              "    </tr>\n",
              "  </tbody>\n",
              "</table>\n",
              "<p>93 rows × 13 columns</p>\n",
              "</div>"
            ],
            "text/plain": [
              "            ID         status  edad    sexo  ...  dias mes   año relacion\n",
              "162460  162461  Aparecio Vivo    69  Hombre  ...   152   7  2021      NaN\n",
              "162471  162472   Desaparecido    73  Hombre  ...   150   7  2021   actual\n",
              "162483  162484  Aparecio Vivo    91  Hombre  ...   150   7  2021   actual\n",
              "162497  162498   Desaparecido    76  Hombre  ...   149   7  2021  ninguna\n",
              "162501  162502  Aparecio Vivo    61  Hombre  ...   152   7  2021   actual\n",
              "...        ...            ...   ...     ...  ...   ...  ..   ...      ...\n",
              "164604  164605   Desaparecido    71  Hombre  ...    69   9  2021   pasada\n",
              "164623  164624   Desaparecido    67   Mujer  ...    70   9  2021   actual\n",
              "164702  164703   Desaparecido    64   Mujer  ...    65   9  2021   pasada\n",
              "164729  164730  Aparecio Vivo    63   Mujer  ...    65   9  2021      NaN\n",
              "164747  164748   Desaparecido    70  Hombre  ...    63   9  2021   pasada\n",
              "\n",
              "[93 rows x 13 columns]"
            ]
          },
          "metadata": {},
          "execution_count": 49
        }
      ]
    },
    {
      "cell_type": "code",
      "metadata": {
        "id": "caB5aSmEqizr",
        "colab": {
          "base_uri": "https://localhost:8080/"
        },
        "outputId": "42eabf8d-a0bb-43f7-abb4-ccd6525febe5"
      },
      "source": [
        "# Identificamos valores que no hubieran sido encontrados para agregar los\n",
        "# valores de manera manual (27 valores únicos)\n",
        "no_encontrados = set(datos.loc[((datos.municipio == 0) \\\n",
        "           &(datos.munic_desap_DANE != 'Sin información')), \"munic_desap_DANE\"])\n",
        "no_encontrados"
      ],
      "execution_count": null,
      "outputs": [
        {
          "output_type": "execute_result",
          "data": {
            "text/plain": [
              "{'Macheta', 'Santiago de Cali'}"
            ]
          },
          "metadata": {},
          "execution_count": 50
        }
      ]
    },
    {
      "cell_type": "code",
      "metadata": {
        "id": "eFaTDUeJurmL",
        "colab": {
          "base_uri": "https://localhost:8080/"
        },
        "outputId": "4dfe760e-9b31-4e96-a0e2-9edd4c690e2e"
      },
      "source": [
        "# Notamos que algunos de ellos tienen errores de ortografía o discrepancia con\n",
        "# como aparecen en Wikipedia. Los reemplazamos primero:\n",
        "# Verificamos aquí:\n",
        "# confirmar departamento en caso de municipios homónimos\n",
        "datos.dept_desap_DANE[datos.munic_desap_DANE == 'Santiago de Cali']\n",
        "# verificar si está en la base de datos de municipios\n",
        "municipios.Departamento[municipios.Municipio == 'Cali']"
      ],
      "execution_count": null,
      "outputs": [
        {
          "output_type": "execute_result",
          "data": {
            "text/plain": [
              "1631    Valle del Cauca\n",
              "Name: Departamento, dtype: object"
            ]
          },
          "metadata": {},
          "execution_count": 51
        }
      ]
    },
    {
      "cell_type": "code",
      "metadata": {
        "id": "FAIaFOWP-8cO"
      },
      "source": [
        "# Identificados por cambiar\n",
        "datos.loc[(datos.munic_desap_DANE == 'Macheta'),\\\n",
        "          \"munic_desap_DANE\"] = \"Machetá\"\n",
        "datos.loc[(datos.munic_desap_DANE == 'Santiago de Cali'),\\\n",
        "          \"munic_desap_DANE\"] = \"Cali\""
      ],
      "execution_count": null,
      "outputs": []
    },
    {
      "cell_type": "code",
      "metadata": {
        "id": "xYZqYvzOAN_i"
      },
      "source": [
        "# Nuevamente, creamos el set de no encontrados\n",
        "no_encontrados = datos[(datos.municipio == 0) \\\n",
        "           & (datos.munic_desap_DANE != 'Sin información')]\n",
        "no_encontrados = no_encontrados[[\"munic_desap_DANE\", \"dept_desap_DANE\"]]"
      ],
      "execution_count": null,
      "outputs": []
    },
    {
      "cell_type": "code",
      "metadata": {
        "id": "S-ZMamJhFUuh",
        "colab": {
          "base_uri": "https://localhost:8080/",
          "height": 444
        },
        "outputId": "dd46dc51-3c61-4b16-935b-1a67d46fd353"
      },
      "source": [
        "# Rellenamos la base de datos con la información faltante:\n",
        "for fila in municipios.index:\n",
        "  condicion = (municipios.Municipio[fila] == datos.munic_desap_DANE) &\\\n",
        "  (municipios.Departamento[fila] == datos.dept_desap_DANE)\n",
        "  datos.loc[condicion, \"municipio\"] = municipios.Habitantes[fila]\n",
        "datos"
      ],
      "execution_count": null,
      "outputs": [
        {
          "output_type": "execute_result",
          "data": {
            "text/html": [
              "<div>\n",
              "<style scoped>\n",
              "    .dataframe tbody tr th:only-of-type {\n",
              "        vertical-align: middle;\n",
              "    }\n",
              "\n",
              "    .dataframe tbody tr th {\n",
              "        vertical-align: top;\n",
              "    }\n",
              "\n",
              "    .dataframe thead th {\n",
              "        text-align: right;\n",
              "    }\n",
              "</style>\n",
              "<table border=\"1\" class=\"dataframe\">\n",
              "  <thead>\n",
              "    <tr style=\"text-align: right;\">\n",
              "      <th></th>\n",
              "      <th>ID</th>\n",
              "      <th>status</th>\n",
              "      <th>edad</th>\n",
              "      <th>sexo</th>\n",
              "      <th>escolaridad</th>\n",
              "      <th>vulnerabilidad</th>\n",
              "      <th>munic_desap_DANE</th>\n",
              "      <th>dept_desap_DANE</th>\n",
              "      <th>municipio</th>\n",
              "      <th>dias</th>\n",
              "      <th>mes</th>\n",
              "      <th>año</th>\n",
              "      <th>relacion</th>\n",
              "    </tr>\n",
              "  </thead>\n",
              "  <tbody>\n",
              "    <tr>\n",
              "      <th>162460</th>\n",
              "      <td>162461</td>\n",
              "      <td>Aparecio Vivo</td>\n",
              "      <td>69</td>\n",
              "      <td>Hombre</td>\n",
              "      <td>2.5</td>\n",
              "      <td>No</td>\n",
              "      <td>San Cayetano</td>\n",
              "      <td>Cundinamarca</td>\n",
              "      <td>5348</td>\n",
              "      <td>152</td>\n",
              "      <td>7</td>\n",
              "      <td>2021</td>\n",
              "      <td>NaN</td>\n",
              "    </tr>\n",
              "    <tr>\n",
              "      <th>162471</th>\n",
              "      <td>162472</td>\n",
              "      <td>Desaparecido</td>\n",
              "      <td>73</td>\n",
              "      <td>Hombre</td>\n",
              "      <td>10.0</td>\n",
              "      <td>No</td>\n",
              "      <td>Bogotá D.C.</td>\n",
              "      <td>Bogotá D.C</td>\n",
              "      <td>8076734</td>\n",
              "      <td>150</td>\n",
              "      <td>7</td>\n",
              "      <td>2021</td>\n",
              "      <td>actual</td>\n",
              "    </tr>\n",
              "    <tr>\n",
              "      <th>162483</th>\n",
              "      <td>162484</td>\n",
              "      <td>Aparecio Vivo</td>\n",
              "      <td>91</td>\n",
              "      <td>Hombre</td>\n",
              "      <td>5.0</td>\n",
              "      <td>No</td>\n",
              "      <td>Bogotá D.C.</td>\n",
              "      <td>Bogotá D.C</td>\n",
              "      <td>8076734</td>\n",
              "      <td>150</td>\n",
              "      <td>7</td>\n",
              "      <td>2021</td>\n",
              "      <td>actual</td>\n",
              "    </tr>\n",
              "    <tr>\n",
              "      <th>162497</th>\n",
              "      <td>162498</td>\n",
              "      <td>Desaparecido</td>\n",
              "      <td>76</td>\n",
              "      <td>Hombre</td>\n",
              "      <td>7.5</td>\n",
              "      <td>No</td>\n",
              "      <td>Bogotá D.C.</td>\n",
              "      <td>Bogotá D.C</td>\n",
              "      <td>8076734</td>\n",
              "      <td>149</td>\n",
              "      <td>7</td>\n",
              "      <td>2021</td>\n",
              "      <td>ninguna</td>\n",
              "    </tr>\n",
              "    <tr>\n",
              "      <th>162501</th>\n",
              "      <td>162502</td>\n",
              "      <td>Aparecio Vivo</td>\n",
              "      <td>61</td>\n",
              "      <td>Hombre</td>\n",
              "      <td>5.0</td>\n",
              "      <td>No</td>\n",
              "      <td>Bogotá D.C.</td>\n",
              "      <td>Bogotá D.C</td>\n",
              "      <td>8076734</td>\n",
              "      <td>152</td>\n",
              "      <td>7</td>\n",
              "      <td>2021</td>\n",
              "      <td>actual</td>\n",
              "    </tr>\n",
              "    <tr>\n",
              "      <th>...</th>\n",
              "      <td>...</td>\n",
              "      <td>...</td>\n",
              "      <td>...</td>\n",
              "      <td>...</td>\n",
              "      <td>...</td>\n",
              "      <td>...</td>\n",
              "      <td>...</td>\n",
              "      <td>...</td>\n",
              "      <td>...</td>\n",
              "      <td>...</td>\n",
              "      <td>...</td>\n",
              "      <td>...</td>\n",
              "      <td>...</td>\n",
              "    </tr>\n",
              "    <tr>\n",
              "      <th>164604</th>\n",
              "      <td>164605</td>\n",
              "      <td>Desaparecido</td>\n",
              "      <td>71</td>\n",
              "      <td>Hombre</td>\n",
              "      <td>2.5</td>\n",
              "      <td>No</td>\n",
              "      <td>Manizales</td>\n",
              "      <td>Caldas</td>\n",
              "      <td>397488</td>\n",
              "      <td>69</td>\n",
              "      <td>9</td>\n",
              "      <td>2021</td>\n",
              "      <td>pasada</td>\n",
              "    </tr>\n",
              "    <tr>\n",
              "      <th>164623</th>\n",
              "      <td>164624</td>\n",
              "      <td>Desaparecido</td>\n",
              "      <td>67</td>\n",
              "      <td>Mujer</td>\n",
              "      <td>10.0</td>\n",
              "      <td>No</td>\n",
              "      <td>Venecia</td>\n",
              "      <td>Antioquia</td>\n",
              "      <td>13231</td>\n",
              "      <td>70</td>\n",
              "      <td>9</td>\n",
              "      <td>2021</td>\n",
              "      <td>actual</td>\n",
              "    </tr>\n",
              "    <tr>\n",
              "      <th>164702</th>\n",
              "      <td>164703</td>\n",
              "      <td>Desaparecido</td>\n",
              "      <td>64</td>\n",
              "      <td>Mujer</td>\n",
              "      <td>0.0</td>\n",
              "      <td>No</td>\n",
              "      <td>Bogotá D.C.</td>\n",
              "      <td>Bogotá D.C</td>\n",
              "      <td>8076734</td>\n",
              "      <td>65</td>\n",
              "      <td>9</td>\n",
              "      <td>2021</td>\n",
              "      <td>pasada</td>\n",
              "    </tr>\n",
              "    <tr>\n",
              "      <th>164729</th>\n",
              "      <td>164730</td>\n",
              "      <td>Aparecio Vivo</td>\n",
              "      <td>63</td>\n",
              "      <td>Mujer</td>\n",
              "      <td>NaN</td>\n",
              "      <td>No</td>\n",
              "      <td>Soacha</td>\n",
              "      <td>Cundinamarca</td>\n",
              "      <td>522442</td>\n",
              "      <td>65</td>\n",
              "      <td>9</td>\n",
              "      <td>2021</td>\n",
              "      <td>NaN</td>\n",
              "    </tr>\n",
              "    <tr>\n",
              "      <th>164747</th>\n",
              "      <td>164748</td>\n",
              "      <td>Desaparecido</td>\n",
              "      <td>70</td>\n",
              "      <td>Hombre</td>\n",
              "      <td>5.0</td>\n",
              "      <td>No</td>\n",
              "      <td>Bogotá D.C.</td>\n",
              "      <td>Bogotá D.C</td>\n",
              "      <td>8076734</td>\n",
              "      <td>63</td>\n",
              "      <td>9</td>\n",
              "      <td>2021</td>\n",
              "      <td>pasada</td>\n",
              "    </tr>\n",
              "  </tbody>\n",
              "</table>\n",
              "<p>93 rows × 13 columns</p>\n",
              "</div>"
            ],
            "text/plain": [
              "            ID         status  edad    sexo  ...  dias mes   año relacion\n",
              "162460  162461  Aparecio Vivo    69  Hombre  ...   152   7  2021      NaN\n",
              "162471  162472   Desaparecido    73  Hombre  ...   150   7  2021   actual\n",
              "162483  162484  Aparecio Vivo    91  Hombre  ...   150   7  2021   actual\n",
              "162497  162498   Desaparecido    76  Hombre  ...   149   7  2021  ninguna\n",
              "162501  162502  Aparecio Vivo    61  Hombre  ...   152   7  2021   actual\n",
              "...        ...            ...   ...     ...  ...   ...  ..   ...      ...\n",
              "164604  164605   Desaparecido    71  Hombre  ...    69   9  2021   pasada\n",
              "164623  164624   Desaparecido    67   Mujer  ...    70   9  2021   actual\n",
              "164702  164703   Desaparecido    64   Mujer  ...    65   9  2021   pasada\n",
              "164729  164730  Aparecio Vivo    63   Mujer  ...    65   9  2021      NaN\n",
              "164747  164748   Desaparecido    70  Hombre  ...    63   9  2021   pasada\n",
              "\n",
              "[93 rows x 13 columns]"
            ]
          },
          "metadata": {},
          "execution_count": 54
        }
      ]
    },
    {
      "cell_type": "code",
      "metadata": {
        "id": "g6gAUt5CGENA",
        "colab": {
          "base_uri": "https://localhost:8080/"
        },
        "outputId": "7602c679-9868-4386-94e3-80f0693290b0"
      },
      "source": [
        "# Verificamos por última vez que todos los municipios tengan datos\n",
        "datos.munic_desap_DANE[datos.municipio.isna() == True]      # serie vacía"
      ],
      "execution_count": null,
      "outputs": [
        {
          "output_type": "execute_result",
          "data": {
            "text/plain": [
              "Series([], Name: munic_desap_DANE, dtype: object)"
            ]
          },
          "metadata": {},
          "execution_count": 55
        }
      ]
    },
    {
      "cell_type": "code",
      "metadata": {
        "id": "JxYx_RofGLuy",
        "colab": {
          "base_uri": "https://localhost:8080/",
          "height": 444
        },
        "outputId": "1cb15090-3701-40d6-b443-9a6c1ce9774c"
      },
      "source": [
        "# Eliminamos las columnas de municipio y departamento\n",
        "datos = datos.drop(columns = [\"munic_desap_DANE\", \"dept_desap_DANE\"])\n",
        "datos"
      ],
      "execution_count": null,
      "outputs": [
        {
          "output_type": "execute_result",
          "data": {
            "text/html": [
              "<div>\n",
              "<style scoped>\n",
              "    .dataframe tbody tr th:only-of-type {\n",
              "        vertical-align: middle;\n",
              "    }\n",
              "\n",
              "    .dataframe tbody tr th {\n",
              "        vertical-align: top;\n",
              "    }\n",
              "\n",
              "    .dataframe thead th {\n",
              "        text-align: right;\n",
              "    }\n",
              "</style>\n",
              "<table border=\"1\" class=\"dataframe\">\n",
              "  <thead>\n",
              "    <tr style=\"text-align: right;\">\n",
              "      <th></th>\n",
              "      <th>ID</th>\n",
              "      <th>status</th>\n",
              "      <th>edad</th>\n",
              "      <th>sexo</th>\n",
              "      <th>escolaridad</th>\n",
              "      <th>vulnerabilidad</th>\n",
              "      <th>municipio</th>\n",
              "      <th>dias</th>\n",
              "      <th>mes</th>\n",
              "      <th>año</th>\n",
              "      <th>relacion</th>\n",
              "    </tr>\n",
              "  </thead>\n",
              "  <tbody>\n",
              "    <tr>\n",
              "      <th>162460</th>\n",
              "      <td>162461</td>\n",
              "      <td>Aparecio Vivo</td>\n",
              "      <td>69</td>\n",
              "      <td>Hombre</td>\n",
              "      <td>2.5</td>\n",
              "      <td>No</td>\n",
              "      <td>5348</td>\n",
              "      <td>152</td>\n",
              "      <td>7</td>\n",
              "      <td>2021</td>\n",
              "      <td>NaN</td>\n",
              "    </tr>\n",
              "    <tr>\n",
              "      <th>162471</th>\n",
              "      <td>162472</td>\n",
              "      <td>Desaparecido</td>\n",
              "      <td>73</td>\n",
              "      <td>Hombre</td>\n",
              "      <td>10.0</td>\n",
              "      <td>No</td>\n",
              "      <td>8076734</td>\n",
              "      <td>150</td>\n",
              "      <td>7</td>\n",
              "      <td>2021</td>\n",
              "      <td>actual</td>\n",
              "    </tr>\n",
              "    <tr>\n",
              "      <th>162483</th>\n",
              "      <td>162484</td>\n",
              "      <td>Aparecio Vivo</td>\n",
              "      <td>91</td>\n",
              "      <td>Hombre</td>\n",
              "      <td>5.0</td>\n",
              "      <td>No</td>\n",
              "      <td>8076734</td>\n",
              "      <td>150</td>\n",
              "      <td>7</td>\n",
              "      <td>2021</td>\n",
              "      <td>actual</td>\n",
              "    </tr>\n",
              "    <tr>\n",
              "      <th>162497</th>\n",
              "      <td>162498</td>\n",
              "      <td>Desaparecido</td>\n",
              "      <td>76</td>\n",
              "      <td>Hombre</td>\n",
              "      <td>7.5</td>\n",
              "      <td>No</td>\n",
              "      <td>8076734</td>\n",
              "      <td>149</td>\n",
              "      <td>7</td>\n",
              "      <td>2021</td>\n",
              "      <td>ninguna</td>\n",
              "    </tr>\n",
              "    <tr>\n",
              "      <th>162501</th>\n",
              "      <td>162502</td>\n",
              "      <td>Aparecio Vivo</td>\n",
              "      <td>61</td>\n",
              "      <td>Hombre</td>\n",
              "      <td>5.0</td>\n",
              "      <td>No</td>\n",
              "      <td>8076734</td>\n",
              "      <td>152</td>\n",
              "      <td>7</td>\n",
              "      <td>2021</td>\n",
              "      <td>actual</td>\n",
              "    </tr>\n",
              "    <tr>\n",
              "      <th>...</th>\n",
              "      <td>...</td>\n",
              "      <td>...</td>\n",
              "      <td>...</td>\n",
              "      <td>...</td>\n",
              "      <td>...</td>\n",
              "      <td>...</td>\n",
              "      <td>...</td>\n",
              "      <td>...</td>\n",
              "      <td>...</td>\n",
              "      <td>...</td>\n",
              "      <td>...</td>\n",
              "    </tr>\n",
              "    <tr>\n",
              "      <th>164604</th>\n",
              "      <td>164605</td>\n",
              "      <td>Desaparecido</td>\n",
              "      <td>71</td>\n",
              "      <td>Hombre</td>\n",
              "      <td>2.5</td>\n",
              "      <td>No</td>\n",
              "      <td>397488</td>\n",
              "      <td>69</td>\n",
              "      <td>9</td>\n",
              "      <td>2021</td>\n",
              "      <td>pasada</td>\n",
              "    </tr>\n",
              "    <tr>\n",
              "      <th>164623</th>\n",
              "      <td>164624</td>\n",
              "      <td>Desaparecido</td>\n",
              "      <td>67</td>\n",
              "      <td>Mujer</td>\n",
              "      <td>10.0</td>\n",
              "      <td>No</td>\n",
              "      <td>13231</td>\n",
              "      <td>70</td>\n",
              "      <td>9</td>\n",
              "      <td>2021</td>\n",
              "      <td>actual</td>\n",
              "    </tr>\n",
              "    <tr>\n",
              "      <th>164702</th>\n",
              "      <td>164703</td>\n",
              "      <td>Desaparecido</td>\n",
              "      <td>64</td>\n",
              "      <td>Mujer</td>\n",
              "      <td>0.0</td>\n",
              "      <td>No</td>\n",
              "      <td>8076734</td>\n",
              "      <td>65</td>\n",
              "      <td>9</td>\n",
              "      <td>2021</td>\n",
              "      <td>pasada</td>\n",
              "    </tr>\n",
              "    <tr>\n",
              "      <th>164729</th>\n",
              "      <td>164730</td>\n",
              "      <td>Aparecio Vivo</td>\n",
              "      <td>63</td>\n",
              "      <td>Mujer</td>\n",
              "      <td>NaN</td>\n",
              "      <td>No</td>\n",
              "      <td>522442</td>\n",
              "      <td>65</td>\n",
              "      <td>9</td>\n",
              "      <td>2021</td>\n",
              "      <td>NaN</td>\n",
              "    </tr>\n",
              "    <tr>\n",
              "      <th>164747</th>\n",
              "      <td>164748</td>\n",
              "      <td>Desaparecido</td>\n",
              "      <td>70</td>\n",
              "      <td>Hombre</td>\n",
              "      <td>5.0</td>\n",
              "      <td>No</td>\n",
              "      <td>8076734</td>\n",
              "      <td>63</td>\n",
              "      <td>9</td>\n",
              "      <td>2021</td>\n",
              "      <td>pasada</td>\n",
              "    </tr>\n",
              "  </tbody>\n",
              "</table>\n",
              "<p>93 rows × 11 columns</p>\n",
              "</div>"
            ],
            "text/plain": [
              "            ID         status  edad    sexo  ...  dias mes   año  relacion\n",
              "162460  162461  Aparecio Vivo    69  Hombre  ...   152   7  2021       NaN\n",
              "162471  162472   Desaparecido    73  Hombre  ...   150   7  2021    actual\n",
              "162483  162484  Aparecio Vivo    91  Hombre  ...   150   7  2021    actual\n",
              "162497  162498   Desaparecido    76  Hombre  ...   149   7  2021   ninguna\n",
              "162501  162502  Aparecio Vivo    61  Hombre  ...   152   7  2021    actual\n",
              "...        ...            ...   ...     ...  ...   ...  ..   ...       ...\n",
              "164604  164605   Desaparecido    71  Hombre  ...    69   9  2021    pasada\n",
              "164623  164624   Desaparecido    67   Mujer  ...    70   9  2021    actual\n",
              "164702  164703   Desaparecido    64   Mujer  ...    65   9  2021    pasada\n",
              "164729  164730  Aparecio Vivo    63   Mujer  ...    65   9  2021       NaN\n",
              "164747  164748   Desaparecido    70  Hombre  ...    63   9  2021    pasada\n",
              "\n",
              "[93 rows x 11 columns]"
            ]
          },
          "metadata": {},
          "execution_count": 56
        }
      ]
    },
    {
      "cell_type": "code",
      "metadata": {
        "id": "QN08JiDs9lbF"
      },
      "source": [
        "# Volvemos NaN los registros que tienen un valor de 0 en esta variable\n",
        "datos.municipio = datos.municipio.replace(0, np.NaN)"
      ],
      "execution_count": null,
      "outputs": []
    },
    {
      "cell_type": "markdown",
      "metadata": {
        "id": "72K9HbLE74SP"
      },
      "source": [
        "### **6 Análisis descriptivo exploratorio**\n",
        "---\n"
      ]
    },
    {
      "cell_type": "markdown",
      "metadata": {
        "id": "4bYXwO04bBtF"
      },
      "source": [
        "#### **a. Tablas**"
      ]
    },
    {
      "cell_type": "code",
      "metadata": {
        "colab": {
          "base_uri": "https://localhost:8080/",
          "height": 300
        },
        "id": "Dxjx339_R8f6",
        "outputId": "397fff76-1566-4d40-9d16-8d1f937de4a5"
      },
      "source": [
        "# Revisamos los descriptivos de las variables cuantitativas\n",
        "datos.describe()"
      ],
      "execution_count": null,
      "outputs": [
        {
          "output_type": "execute_result",
          "data": {
            "text/html": [
              "<div>\n",
              "<style scoped>\n",
              "    .dataframe tbody tr th:only-of-type {\n",
              "        vertical-align: middle;\n",
              "    }\n",
              "\n",
              "    .dataframe tbody tr th {\n",
              "        vertical-align: top;\n",
              "    }\n",
              "\n",
              "    .dataframe thead th {\n",
              "        text-align: right;\n",
              "    }\n",
              "</style>\n",
              "<table border=\"1\" class=\"dataframe\">\n",
              "  <thead>\n",
              "    <tr style=\"text-align: right;\">\n",
              "      <th></th>\n",
              "      <th>edad</th>\n",
              "      <th>escolaridad</th>\n",
              "      <th>municipio</th>\n",
              "      <th>dias</th>\n",
              "      <th>año</th>\n",
              "    </tr>\n",
              "  </thead>\n",
              "  <tbody>\n",
              "    <tr>\n",
              "      <th>count</th>\n",
              "      <td>93.000000</td>\n",
              "      <td>79.000000</td>\n",
              "      <td>9.000000e+01</td>\n",
              "      <td>93.000000</td>\n",
              "      <td>93.0</td>\n",
              "    </tr>\n",
              "    <tr>\n",
              "      <th>mean</th>\n",
              "      <td>69.000000</td>\n",
              "      <td>6.170886</td>\n",
              "      <td>4.754289e+06</td>\n",
              "      <td>114.258065</td>\n",
              "      <td>2021.0</td>\n",
              "    </tr>\n",
              "    <tr>\n",
              "      <th>std</th>\n",
              "      <td>7.311397</td>\n",
              "      <td>3.509042</td>\n",
              "      <td>3.769760e+06</td>\n",
              "      <td>29.100240</td>\n",
              "      <td>0.0</td>\n",
              "    </tr>\n",
              "    <tr>\n",
              "      <th>min</th>\n",
              "      <td>60.000000</td>\n",
              "      <td>0.000000</td>\n",
              "      <td>5.348000e+03</td>\n",
              "      <td>63.000000</td>\n",
              "      <td>2021.0</td>\n",
              "    </tr>\n",
              "    <tr>\n",
              "      <th>25%</th>\n",
              "      <td>63.000000</td>\n",
              "      <td>5.000000</td>\n",
              "      <td>4.161218e+05</td>\n",
              "      <td>89.000000</td>\n",
              "      <td>2021.0</td>\n",
              "    </tr>\n",
              "    <tr>\n",
              "      <th>50%</th>\n",
              "      <td>68.000000</td>\n",
              "      <td>5.000000</td>\n",
              "      <td>8.076734e+06</td>\n",
              "      <td>117.000000</td>\n",
              "      <td>2021.0</td>\n",
              "    </tr>\n",
              "    <tr>\n",
              "      <th>75%</th>\n",
              "      <td>73.000000</td>\n",
              "      <td>10.000000</td>\n",
              "      <td>8.076734e+06</td>\n",
              "      <td>142.000000</td>\n",
              "      <td>2021.0</td>\n",
              "    </tr>\n",
              "    <tr>\n",
              "      <th>max</th>\n",
              "      <td>92.000000</td>\n",
              "      <td>12.500000</td>\n",
              "      <td>8.076734e+06</td>\n",
              "      <td>152.000000</td>\n",
              "      <td>2021.0</td>\n",
              "    </tr>\n",
              "  </tbody>\n",
              "</table>\n",
              "</div>"
            ],
            "text/plain": [
              "            edad  escolaridad     municipio        dias     año\n",
              "count  93.000000    79.000000  9.000000e+01   93.000000    93.0\n",
              "mean   69.000000     6.170886  4.754289e+06  114.258065  2021.0\n",
              "std     7.311397     3.509042  3.769760e+06   29.100240     0.0\n",
              "min    60.000000     0.000000  5.348000e+03   63.000000  2021.0\n",
              "25%    63.000000     5.000000  4.161218e+05   89.000000  2021.0\n",
              "50%    68.000000     5.000000  8.076734e+06  117.000000  2021.0\n",
              "75%    73.000000    10.000000  8.076734e+06  142.000000  2021.0\n",
              "max    92.000000    12.500000  8.076734e+06  152.000000  2021.0"
            ]
          },
          "metadata": {},
          "execution_count": 58
        }
      ]
    },
    {
      "cell_type": "code",
      "metadata": {
        "colab": {
          "base_uri": "https://localhost:8080/",
          "height": 175
        },
        "id": "k8o_FglbVOnI",
        "outputId": "3f5210a6-9b34-4466-ecd4-e4ac05d29938"
      },
      "source": [
        "# Revisamos los descriptivos de las variables cualitativas (volvemos de tipo\n",
        "# categoría la variable \"factor de vulnerabilidad\", ya que no se toma como tal)\n",
        "datos.describe(include = 'category')"
      ],
      "execution_count": null,
      "outputs": [
        {
          "output_type": "execute_result",
          "data": {
            "text/html": [
              "<div>\n",
              "<style scoped>\n",
              "    .dataframe tbody tr th:only-of-type {\n",
              "        vertical-align: middle;\n",
              "    }\n",
              "\n",
              "    .dataframe tbody tr th {\n",
              "        vertical-align: top;\n",
              "    }\n",
              "\n",
              "    .dataframe thead th {\n",
              "        text-align: right;\n",
              "    }\n",
              "</style>\n",
              "<table border=\"1\" class=\"dataframe\">\n",
              "  <thead>\n",
              "    <tr style=\"text-align: right;\">\n",
              "      <th></th>\n",
              "      <th>ID</th>\n",
              "      <th>status</th>\n",
              "      <th>sexo</th>\n",
              "      <th>vulnerabilidad</th>\n",
              "      <th>mes</th>\n",
              "      <th>relacion</th>\n",
              "    </tr>\n",
              "  </thead>\n",
              "  <tbody>\n",
              "    <tr>\n",
              "      <th>count</th>\n",
              "      <td>93</td>\n",
              "      <td>93</td>\n",
              "      <td>93</td>\n",
              "      <td>87</td>\n",
              "      <td>93</td>\n",
              "      <td>87</td>\n",
              "    </tr>\n",
              "    <tr>\n",
              "      <th>unique</th>\n",
              "      <td>93</td>\n",
              "      <td>2</td>\n",
              "      <td>2</td>\n",
              "      <td>2</td>\n",
              "      <td>3</td>\n",
              "      <td>3</td>\n",
              "    </tr>\n",
              "    <tr>\n",
              "      <th>top</th>\n",
              "      <td>164748</td>\n",
              "      <td>Desaparecido</td>\n",
              "      <td>Hombre</td>\n",
              "      <td>No</td>\n",
              "      <td>7</td>\n",
              "      <td>actual</td>\n",
              "    </tr>\n",
              "    <tr>\n",
              "      <th>freq</th>\n",
              "      <td>1</td>\n",
              "      <td>63</td>\n",
              "      <td>72</td>\n",
              "      <td>81</td>\n",
              "      <td>44</td>\n",
              "      <td>37</td>\n",
              "    </tr>\n",
              "  </tbody>\n",
              "</table>\n",
              "</div>"
            ],
            "text/plain": [
              "            ID        status    sexo vulnerabilidad  mes relacion\n",
              "count       93            93      93             87   93       87\n",
              "unique      93             2       2              2    3        3\n",
              "top     164748  Desaparecido  Hombre             No    7   actual\n",
              "freq         1            63      72             81   44       37"
            ]
          },
          "metadata": {},
          "execution_count": 59
        }
      ]
    },
    {
      "cell_type": "code",
      "metadata": {
        "colab": {
          "base_uri": "https://localhost:8080/"
        },
        "id": "lKSdNkHowN4d",
        "outputId": "11d20f9c-3496-4684-a0f0-dd3065495c90"
      },
      "source": [
        "# Porcentaje de datos faltantes\n",
        "porc_faltantes = datos.isnull().sum() * 100 / len(datos)\n",
        "porc_faltantes"
      ],
      "execution_count": null,
      "outputs": [
        {
          "output_type": "execute_result",
          "data": {
            "text/plain": [
              "ID                 0.000000\n",
              "status             0.000000\n",
              "edad               0.000000\n",
              "sexo               0.000000\n",
              "escolaridad       15.053763\n",
              "vulnerabilidad     6.451613\n",
              "municipio          3.225806\n",
              "dias               0.000000\n",
              "mes                0.000000\n",
              "año                0.000000\n",
              "relacion           6.451613\n",
              "dtype: float64"
            ]
          },
          "metadata": {},
          "execution_count": 60
        }
      ]
    },
    {
      "cell_type": "code",
      "metadata": {
        "id": "D3eXKfw4GRmO"
      },
      "source": [
        "# Sacamos la columna de mes\n",
        "datos = datos.drop('mes', 1)"
      ],
      "execution_count": null,
      "outputs": []
    },
    {
      "cell_type": "code",
      "metadata": {
        "id": "GpPPfF3gd6Zo"
      },
      "source": [
        "# Sacamos la columnda de año\n",
        "datos = datos.drop('año', 1)"
      ],
      "execution_count": null,
      "outputs": []
    },
    {
      "cell_type": "code",
      "metadata": {
        "id": "-wy2p-jP6RKl"
      },
      "source": [
        "# Creamos una variable de salida numérica\n",
        "datos['aparecio'] = np.where(datos['status'] == 'Aparecio Vivo', 1, 0)"
      ],
      "execution_count": null,
      "outputs": []
    },
    {
      "cell_type": "code",
      "metadata": {
        "id": "tc-9BO5VSZgE"
      },
      "source": [
        "# Reseteamos el índice\n",
        "datos = datos.reset_index(drop = True)"
      ],
      "execution_count": null,
      "outputs": []
    },
    {
      "cell_type": "code",
      "metadata": {
        "colab": {
          "base_uri": "https://localhost:8080/"
        },
        "id": "ZaBWOwJUcrhV",
        "outputId": "f2f922de-92f7-43d8-8448-1691bf70a470"
      },
      "source": [
        "# Montamos Google Drive para guardar el archivo\n",
        "from google.colab import drive\n",
        "drive.mount('/content/gdrive')"
      ],
      "execution_count": null,
      "outputs": [
        {
          "output_type": "stream",
          "name": "stdout",
          "text": [
            "Mounted at /content/gdrive\n"
          ]
        }
      ]
    },
    {
      "cell_type": "code",
      "metadata": {
        "id": "pCxPLXXQdDy0"
      },
      "source": [
        "# Guardamos el archivo\n",
        "#datos.to_csv(\"/content/gdrive/My Drive/Proyecto/unseen.csv\", index = False)"
      ],
      "execution_count": null,
      "outputs": []
    },
    {
      "cell_type": "markdown",
      "metadata": {
        "id": "ZWL2uNNnecV_"
      },
      "source": [
        "#### **b. Gráficos**"
      ]
    },
    {
      "cell_type": "code",
      "metadata": {
        "colab": {
          "base_uri": "https://localhost:8080/",
          "height": 345
        },
        "id": "az8SjQHlF5Ql",
        "outputId": "4c9abc8f-022f-4a08-fa30-27a79d4258cb"
      },
      "source": [
        "# Verificamos la distribución\n",
        "sns.set(style = \"darkgrid\")\n",
        "sns.histplot(datos, x = \"status\", stat = \"percent\", hue = \"status\",\n",
        "             palette = \"BuPu\", shrink = 0.3, legend = False)\n",
        "plt.xlabel(\"Status\", size = 15)\n",
        "plt.ylabel(\"Porcentaje\", size = 15)\n",
        "plt.title(\"Histograma por status\", size = 18)\n",
        "plt.xticks(size = 13)\n",
        "plt.yticks(size = 13)\n",
        "#plt.savefig('hist_status.png', dpi = 200, figsize = (8, 11),\n",
        "#            bbox_inches = 'tight')"
      ],
      "execution_count": null,
      "outputs": [
        {
          "output_type": "execute_result",
          "data": {
            "text/plain": [
              "(array([ 0., 10., 20., 30., 40., 50., 60., 70., 80.]),\n",
              " <a list of 9 Text major ticklabel objects>)"
            ]
          },
          "metadata": {},
          "execution_count": 66
        },
        {
          "output_type": "display_data",
          "data": {
            "image/png": "[encoded data removed]",
            "text/plain": [
              "<Figure size 432x288 with 1 Axes>"
            ]
          },
          "metadata": {}
        }
      ]
    },
    {
      "cell_type": "code",
      "metadata": {
        "colab": {
          "base_uri": "https://localhost:8080/",
          "height": 325
        },
        "id": "PeKFbZGHKPj5",
        "outputId": "f1f5fdd2-85fd-4238-bbc8-5bc2d4e86d37"
      },
      "source": [
        "# Histograma de edad por status\n",
        "sns.histplot(data = datos, x = 'edad', stat = 'percent', hue = 'status',\n",
        "                palette = \"BuPu\", multiple = \"stack\")\n",
        "plt.xlabel(\"Edad\", size = 15)\n",
        "plt.ylabel(\"Porcentaje\", size = 15)\n",
        "#plt.title(\"Histograma de edad por status\", size = 18)\n",
        "plt.legend(title = \"Estatus\", bbox_to_anchor = (1.4, 1),\n",
        "           labels = datos.status.unique())\n",
        "plt.xticks(size = 13)\n",
        "plt.yticks(size = 13)\n",
        "#plt.savefig('hist_edad.png', dpi = 200, figsize = (8, 11),\n",
        "#            bbox_inches = 'tight')"
      ],
      "execution_count": null,
      "outputs": [
        {
          "output_type": "execute_result",
          "data": {
            "text/plain": [
              "(array([ 0.,  5., 10., 15., 20., 25., 30.]),\n",
              " <a list of 7 Text major ticklabel objects>)"
            ]
          },
          "metadata": {},
          "execution_count": 67
        },
        {
          "output_type": "display_data",
          "data": {
            "image/png": "[encoded data removed]",
            "text/plain": [
              "<Figure size 432x288 with 1 Axes>"
            ]
          },
          "metadata": {}
        }
      ]
    },
    {
      "cell_type": "code",
      "metadata": {
        "colab": {
          "base_uri": "https://localhost:8080/",
          "height": 345
        },
        "id": "jCdmKQrOtL-S",
        "outputId": "90445caa-f7ce-4f5b-e62b-2a92c3f241f1"
      },
      "source": [
        "# Gráfico de violines de la distribución por edad de los aparecidos divi-\n",
        "# didos por sexo\n",
        "sns.set(style = \"darkgrid\")\n",
        "sns.violinplot(x = \"sexo\", y = \"edad\", hue = \"status\",\n",
        "                    data = datos, palette = \"BuPu\", split = True,\n",
        "               saturation = 0.8, inner = \"box\",\n",
        "               order = (\"Mujer\", \"Hombre\"))\n",
        "plt.xlabel(\"Sexo\", size = 15)\n",
        "plt.ylabel(\"Edad\", size = 15)\n",
        "plt.legend(title = \"Status\", bbox_to_anchor = (1.4, 1))\n",
        "plt.title(\"Distribución de edad por sexo y status\", size = 18)\n",
        "plt.xticks(size = 13)\n",
        "plt.yticks(size = 13)\n",
        "#plt.savefig('edad_sexo_status.png', dpi = 200, figsize = (8, 11),\n",
        "#            bbox_inches = 'tight')"
      ],
      "execution_count": null,
      "outputs": [
        {
          "output_type": "execute_result",
          "data": {
            "text/plain": [
              "(array([ 40.,  50.,  60.,  70.,  80.,  90., 100., 110.]),\n",
              " <a list of 8 Text major ticklabel objects>)"
            ]
          },
          "metadata": {},
          "execution_count": 68
        },
        {
          "output_type": "display_data",
          "data": {
            "image/png": "[encoded data removed]",
            "text/plain": [
              "<Figure size 432x288 with 1 Axes>"
            ]
          },
          "metadata": {}
        }
      ]
    },
    {
      "cell_type": "code",
      "metadata": {
        "colab": {
          "base_uri": "https://localhost:8080/",
          "height": 325
        },
        "id": "ZlRK-iW7iC-P",
        "outputId": "ac0a5455-eba6-4049-dd72-736e91d543cd"
      },
      "source": [
        "# Gráfico de la distribución por escolaridad\n",
        "sns.set(style = \"darkgrid\")\n",
        "sns.boxplot(data = datos, x = \"status\", y = \"escolaridad\", palette = \"BuPu\",\n",
        "            linewidth = 0.7, width = 0.5)\n",
        "plt.xlabel(\"Status\", size = 15)\n",
        "plt.ylabel(\"Escolaridad\", size = 15)\n",
        "plt.title(\"Años de escolaridad por status\", size = 16)\n",
        "plt.yticks(size = 13)\n",
        "plt.xticks(size = 13)\n",
        "#plt.savefig('status_educación.png', dpi = 300, figsize = (8, 11),\n",
        "#            bbox_inches = 'tight')"
      ],
      "execution_count": null,
      "outputs": [
        {
          "output_type": "execute_result",
          "data": {
            "text/plain": [
              "(array([0, 1]), <a list of 2 Text major ticklabel objects>)"
            ]
          },
          "metadata": {},
          "execution_count": 69
        },
        {
          "output_type": "display_data",
          "data": {
            "image/png": "[encoded data removed]",
            "text/plain": [
              "<Figure size 432x288 with 1 Axes>"
            ]
          },
          "metadata": {}
        }
      ]
    },
    {
      "cell_type": "code",
      "metadata": {
        "colab": {
          "base_uri": "https://localhost:8080/",
          "height": 327
        },
        "id": "wwT8331lfQ3V",
        "outputId": "6e450bb2-ef3a-4483-a040-0c0563e9a1dd"
      },
      "source": [
        "# Status desaparición por estado civil\n",
        "sns.set(style = \"darkgrid\")\n",
        "sns.histplot(datos, x = \"relacion\", hue = \"status\", multiple = \"stack\",\n",
        "                 stat = \"percent\", palette = \"BuPu\", shrink = 0.5)\n",
        "plt.xlabel(\"Relación\", size = 15)\n",
        "plt.ylabel(\"Porcentaje\", size = 15)\n",
        "plt.legend(title = \"Status\", bbox_to_anchor = (1.4, 1),\n",
        "           labels = datos.status.unique())\n",
        "plt.title(\"Relación conyugal por status de desaparición\", size = 18)\n",
        "plt.yticks(size = 13)\n",
        "plt.xticks(size = 13)\n",
        "#plt.savefig('sexo_estado_civil.png', dpi = 200, figsize = (8, 11),\n",
        "#            bbox_inches = 'tight')"
      ],
      "execution_count": null,
      "outputs": [
        {
          "output_type": "execute_result",
          "data": {
            "text/plain": [
              "([0, 1, 2], <a list of 3 Text major ticklabel objects>)"
            ]
          },
          "metadata": {},
          "execution_count": 70
        },
        {
          "output_type": "display_data",
          "data": {
            "image/png": "[encoded data removed]",
            "text/plain": [
              "<Figure size 432x288 with 1 Axes>"
            ]
          },
          "metadata": {}
        }
      ]
    },
    {
      "cell_type": "code",
      "metadata": {
        "colab": {
          "base_uri": "https://localhost:8080/",
          "height": 327
        },
        "id": "clbJYIt2OmkP",
        "outputId": "e07d63eb-2320-4b52-e501-8eb4476483f8"
      },
      "source": [
        "# Status desaparición por vulnerabilidad\n",
        "sns.set(style = \"darkgrid\")\n",
        "sns.histplot(datos, x = \"vulnerabilidad\", hue = \"status\", multiple = \"stack\",\n",
        "                 stat = \"percent\", palette = \"BuPu\", shrink = 0.3)\n",
        "plt.xlabel(\"Vulnerabilidad\", size = 15)\n",
        "plt.ylabel(\"Porcentaje\", size = 15)\n",
        "plt.legend(title = \"Status\", bbox_to_anchor = (1.4, 1),\n",
        "           labels = datos.status.unique())\n",
        "plt.title(\"Vulnerabilidad por status de desaparición\", size = 18)\n",
        "plt.yticks(size = 13)\n",
        "plt.xticks(size = 13)\n",
        "#plt.savefig('vulnerabilidad.png', dpi = 200, figsize = (8, 11),\n",
        "#            bbox_inches = 'tight')"
      ],
      "execution_count": null,
      "outputs": [
        {
          "output_type": "execute_result",
          "data": {
            "text/plain": [
              "([0, 1], <a list of 2 Text major ticklabel objects>)"
            ]
          },
          "metadata": {},
          "execution_count": 71
        },
        {
          "output_type": "display_data",
          "data": {
            "image/png": "[encoded data removed]",
            "text/plain": [
              "<Figure size 432x288 with 1 Axes>"
            ]
          },
          "metadata": {}
        }
      ]
    },
    {
      "cell_type": "code",
      "metadata": {
        "id": "SiBxq2kyYx-5",
        "colab": {
          "base_uri": "https://localhost:8080/",
          "height": 321
        },
        "outputId": "8f5f36a2-3176-4c04-f96a-094e025bd779"
      },
      "source": [
        "# Tamaño del municipio\n",
        "sns.set(style = \"darkgrid\")\n",
        "sns.histplot(data = datos, x = 'municipio', stat = 'percent', hue = 'status',\n",
        "                palette = \"BuPu\", multiple = \"stack\")\n",
        "plt.xlabel(\"Tamaño del municipio (millones hab.)\", size = 15)\n",
        "plt.ylabel(\"Porcentaje\", size = 15)\n",
        "plt.legend(title = \"Estatus\",\n",
        "           labels = datos.status.unique(), bbox_to_anchor = (1, 1))\n",
        "#plt.title(\"Histograma de municipio y status de desaparición\", size = 18)\n",
        "plt.xticks(size = 8)\n",
        "plt.yticks(size = 13)\n",
        "#plt.savefig('hist_municipio.png', dpi = 200, figsize = (8, 11),\n",
        "#            bbox_inches = 'tight')"
      ],
      "execution_count": null,
      "outputs": [
        {
          "output_type": "execute_result",
          "data": {
            "text/plain": [
              "(array([ 0., 10., 20., 30., 40., 50., 60.]),\n",
              " <a list of 7 Text major ticklabel objects>)"
            ]
          },
          "metadata": {},
          "execution_count": 72
        },
        {
          "output_type": "display_data",
          "data": {
            "image/png": "[encoded data removed]",
            "text/plain": [
              "<Figure size 432x288 with 1 Axes>"
            ]
          },
          "metadata": {}
        }
      ]
    },
    {
      "cell_type": "code",
      "metadata": {
        "colab": {
          "base_uri": "https://localhost:8080/",
          "height": 346
        },
        "id": "Kq7BWmdy5Lh1",
        "outputId": "70c69a8d-af56-485e-f212-6b58e8a8e5ca"
      },
      "source": [
        "# Finalmente, miramos la distribución por año\n",
        "sns.set(style = \"darkgrid\")\n",
        "sns.histplot(data = datos, x = 'dias', stat = 'percent', hue = 'status',\n",
        "                palette = \"BuPu\", multiple = \"stack\")\n",
        "plt.xlabel(\"Número de días desde el reporte\", size = 15)\n",
        "plt.ylabel(\"Porcentaje\", size = 15)\n",
        "plt.title(\"Distribución de días de desaparición por status\", size = 18)\n",
        "plt.legend(title = \"Status\", bbox_to_anchor = (1.4, 1),\n",
        "           labels = datos.status.unique())\n",
        "plt.xticks(size = 13)\n",
        "plt.yticks(size = 13)\n",
        "#plt.savefig('hist_años.png', dpi = 200, figsize = (8, 11),\n",
        "#            bbox_inches = 'tight')"
      ],
      "execution_count": null,
      "outputs": [
        {
          "output_type": "execute_result",
          "data": {
            "text/plain": [
              "(array([ 0.,  5., 10., 15., 20., 25., 30., 35.]),\n",
              " <a list of 8 Text major ticklabel objects>)"
            ]
          },
          "metadata": {},
          "execution_count": 73
        },
        {
          "output_type": "display_data",
          "data": {
            "image/png": "[encoded data removed]",
            "text/plain": [
              "<Figure size 432x288 with 1 Axes>"
            ]
          },
          "metadata": {}
        }
      ]
    },
    {
      "cell_type": "markdown",
      "metadata": {
        "id": "-YMtGHSnPcsB"
      },
      "source": [
        "### Predicción datos no vistos"
      ]
    },
    {
      "cell_type": "code",
      "metadata": {
        "colab": {
          "base_uri": "https://localhost:8080/"
        },
        "id": "X8qebpA0Pbds",
        "outputId": "4fc3b6d9-0349-4014-81a4-99952a8447d6"
      },
      "source": [
        "# Cargar el modelo desde Google Drive\n",
        "filename = '/content/gdrive/My Drive/Proyecto/finalized_lgbm_model.sav'\n",
        "with open(filename, 'rb') as file:  \n",
        "    pickled_lgbm_model = pickle.load(file)\n",
        "pickled_lgbm_model"
      ],
      "execution_count": null,
      "outputs": [
        {
          "output_type": "stream",
          "name": "stderr",
          "text": [
            "/usr/local/lib/python3.7/dist-packages/sklearn/base.py:333: UserWarning: Trying to unpickle estimator LabelEncoder from version 0.23.2 when using version 1.0.1. This might lead to breaking code or invalid results. Use at your own risk. For more info please refer to:\n",
            "https://scikit-learn.org/stable/modules/model_persistence.html#security-maintainability-limitations\n",
            "  UserWarning,\n"
          ]
        },
        {
          "output_type": "execute_result",
          "data": {
            "text/plain": [
              "LGBMClassifier(random_state=2021, silent='warn')"
            ]
          },
          "metadata": {},
          "execution_count": 80
        }
      ]
    }
  ]
}